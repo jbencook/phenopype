{
 "cells": [
  {
   "cell_type": "markdown",
   "metadata": {},
   "source": [
    "# Tutorial 3: landmarking\n",
    "\n",
    "This is an introduction to _phenopype's_ landmark editor, which was designed for rapid processing of large image collections. The images used for this tutorial contain stained threespine stickleback that were photographed with a 100 mm macro lens mounted on a Canon 750D. The fish were imersed in Glycerol in a white resin tray placed underneath a camera stand. \n",
    "\n",
    "***\n",
    "* [Set up project](#project)\n",
    "* [Provide scale](#scale)\n",
    "* [Setting landmarks](#landmarks)\n",
    "* [Measure specimen length](#length)\n"
   ]
  },
  {
   "cell_type": "markdown",
   "metadata": {},
   "source": [
    "# Set up project<a name=\"project\"></a>\n",
    "\n",
    "First we load the program and initate a project object where we indicate the images that contain the specimens that we want to landmark - in this case images of stickleback (using the `include` argument)."
   ]
  },
  {
   "cell_type": "code",
   "execution_count": 2,
   "metadata": {},
   "outputs": [
    {
     "name": "stdout",
     "output_type": "stream",
     "text": [
      "\n",
      "\n",
      "----------------------------------------------------------------\n",
      "Project settings\n",
      "================\n",
      "\n",
      "Project name: landmarks\n",
      "Image directory: images\n",
      "Search mode: dir\n",
      "Filetypes: []\n",
      "Include:['stickle']\n",
      "Exclude: []\n",
      "----------------------------------------------------------------\n",
      "Search returned following files: \n",
      "['stickle1.jpg', 'stickle2.jpg', 'stickle3.jpg']\n"
     ]
    }
   ],
   "source": [
    "import os\n",
    "import phenopype as pp\n",
    "\n",
    "## for this tutorial, you should be in the \"tutorial directory of phenopype-master\"\n",
    "#os.getcwd()\n",
    "#os.chdir(\"tutorials\")\n",
    "\n",
    "my_proj = pp.project_maker(image_dir = \"images\", include=[\"stickle\"], name=\"landmarks\") "
   ]
  },
  {
   "cell_type": "markdown",
   "metadata": {},
   "source": [
    "## Provide a scale <a name=\"scale\"></a>\n",
    "\n",
    "As shown in [tutorial 2](2_object_detection.ipynb#scale), we need to tell phenopype the pixel to mm ratio to give the landmarks a frame of reference. Again we load the image into the `scale_maker`, `zoom` into the scale area for better visibility, and mark the distance we specifiy - in this case 10 mm. Make sure to mark the whole scale, if you want to it to be detected in the following images. "
   ]
  },
  {
   "cell_type": "code",
   "execution_count": 2,
   "metadata": {
    "scrolled": true
   },
   "outputs": [
    {
     "name": "stdout",
     "output_type": "stream",
     "text": [
      "\n",
      "Mark the outline of the scale by left clicking, remove points by right clicking, finish with enter.\n",
      "Finished, scale outline drawn. Now add the scale by clicking on two points with a known distance between them:\n",
      "Adding point 1 of 2 to scale\n",
      "\n",
      "\n",
      "------------------------------------------------\n",
      "Finished - your scale has 0 pixel per 10 mm.\n",
      "------------------------------------------------\n",
      "\n",
      "\n"
     ]
    }
   ],
   "source": [
    "image1 = my_proj.filepaths[0]\n",
    "scale = pp.scale_maker(image=image1, value=10, zoom=True, show=True)"
   ]
  },
  {
   "cell_type": "markdown",
   "metadata": {},
   "source": [
    "<img src=\"../assets/tutorials/scale1.png\" width=\"50%\">"
   ]
  },
  {
   "cell_type": "markdown",
   "metadata": {},
   "source": [
    "## Setting landmarks <a name=\"landmarks\"></a>\n",
    "\n",
    "Just as in the `polygon_maker` and `object_finder` classes, the `landmark_maker` class initializes and sets up the landmarking procuedure, and the inherited function `set_landmarks` does the actual landmarking. You can zoom in and out with the mousewheel."
   ]
  },
  {
   "cell_type": "code",
   "execution_count": null,
   "metadata": {},
   "outputs": [],
   "source": [
    "lm = pp.landmark_maker(image=image1, scale=scale.current)"
   ]
  },
  {
   "cell_type": "code",
   "execution_count": null,
   "metadata": {},
   "outputs": [],
   "source": [
    "lm.draw()"
   ]
  },
  {
   "cell_type": "markdown",
   "metadata": {},
   "source": [
    "Depending on your preferences and the given image you can customize the landmarking procedure, e.g. with differently coloured points, bigger points or labels, or greater zoom. "
   ]
  },
  {
   "cell_type": "code",
   "execution_count": null,
   "metadata": {},
   "outputs": [],
   "source": [
    "lm = pp.landmark_maker(image=image1)\n",
    "lm.set_landmarks(point_col=pp.green, point_size=5, label_size=2, zoom_factor=10, scale=scale.current)"
   ]
  },
  {
   "cell_type": "code",
   "execution_count": null,
   "metadata": {},
   "outputs": [],
   "source": [
    "help(lm)"
   ]
  }
 ],
 "metadata": {
  "kernelspec": {
   "display_name": "Python 3",
   "language": "python",
   "name": "python3"
  },
  "language_info": {
   "codemirror_mode": {
    "name": "ipython",
    "version": 3
   },
   "file_extension": ".py",
   "mimetype": "text/x-python",
   "name": "python",
   "nbconvert_exporter": "python",
   "pygments_lexer": "ipython3",
   "version": "3.7.1"
  }
 },
 "nbformat": 4,
 "nbformat_minor": 2
}
