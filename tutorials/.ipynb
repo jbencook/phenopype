{
 "cells": [
  {
   "cell_type": "code",
   "execution_count": 15,
   "metadata": {},
   "outputs": [],
   "source": [
    "#%% DEV_startup\n",
    "\n",
    "import os\n",
    "import cv2\n",
    "\n",
    "os.chdir(\"E:\\\\python1\\\\phenopype\")\n",
    "\n",
    "import phenopype as pp\n",
    "import importlib\n",
    "importlib.reload(pp)\n",
    "pp.__file__\n",
    "\n",
    "\n",
    "self = type('test', (object,), {})()\n",
    "kwargs = dict()\n",
    "\n",
    "cv2.destroyAllWindows()\n",
    "\n"
   ]
  },
  {
   "cell_type": "markdown",
   "metadata": {},
   "source": [
    "# Example 1 - count and measure objects in multiple images\n",
    "\n",
    "This example demonstrates how multiple small objects can be found and phenotypes in multiple images. The images contain black and white isopods sitting inside a white tray underneath a camera stand, photopgraphed with a 50 mm lens on a Canon 750D. "
   ]
  },
  {
   "cell_type": "code",
   "execution_count": null,
   "metadata": {},
   "outputs": [],
   "source": [
    "import phenopype as pp\n",
    "\n",
    "# matplotlib needed to show output in jupyter notebook\n",
    "from matplotlib import pyplot as plt\n"
   ]
  },
  {
   "cell_type": "markdown",
   "metadata": {},
   "source": [
    "Specify image directory and make a project object"
   ]
  },
  {
   "cell_type": "code",
   "execution_count": 2,
   "metadata": {},
   "outputs": [],
   "source": [
    "\n",
    "ex1 = \"E:\\\\Python1\\\\phenopype\\\\examples\\\\example1\\\\images\"\n",
    "\n",
    "proj = pp.project()    \n",
    "proj.project_maker(project_name = \"example1\", image_dir = ex1, save_dir = ex1 + \"\\\\out\")"
   ]
  },
  {
   "cell_type": "markdown",
   "metadata": {},
   "source": [
    "Take the first image from the image directory to where we can grab the scale from. Once we do that we can use that template in all following images that have a similar scale included in them."
   ]
  },
  {
   "cell_type": "code",
   "execution_count": 3,
   "metadata": {
    "scrolled": true
   },
   "outputs": [
    {
     "name": "stdout",
     "output_type": "stream",
     "text": [
      "\n",
      "Mark the outline of the scale by left clicking, remove points by right clicking, finish with enter.\n",
      "Finished, scale outline drawn. Now dd the scale by clicking on two points with a known distance between them:\n",
      "Adding point 1 of 2 to scale\n",
      "Adding point 2 of 2 to scale\n",
      "\n",
      "\n",
      "------------------------------------------------\n",
      "Finished - your scale has 136 pixel per 10 mm.\n",
      "------------------------------------------------\n",
      "\n",
      "\n"
     ]
    }
   ],
   "source": [
    "img = proj.filepaths[0]\n",
    "\n",
    "scale = pp.scale_maker()\n",
    "scale.grab(image_path=img, length=10, unit=\"mm\", mode=\"box\", zoom=True, show=True)"
   ]
  },
  {
   "cell_type": "markdown",
   "metadata": {},
   "source": [
    "Show with matplotlib - in *phenopype*, simply include the show=True"
   ]
  },
  {
   "cell_type": "code",
   "execution_count": null,
   "metadata": {},
   "outputs": [],
   "source": [
    "f = plt.figure(figsize=(7, 5), dpi=150)\n",
    "f.add_subplot(1,2, 1)\n",
    "plt.imshow(cv2.cvtColor(scale.image_overlay, cv2.COLOR_BGR2RGB))\n",
    "f.add_subplot(1,2, 2)\n",
    "plt.imshow(cv2.cvtColor(scale.image_zoomed, cv2.COLOR_BGR2RGB))\n",
    "plt.show(block=True)"
   ]
  },
  {
   "cell_type": "markdown",
   "metadata": {},
   "source": [
    "First, we make a project file ´proj´"
   ]
  },
  {
   "cell_type": "code",
   "execution_count": null,
   "metadata": {},
   "outputs": [],
   "source": []
  },
  {
   "cell_type": "code",
   "execution_count": null,
   "metadata": {},
   "outputs": [],
   "source": []
  },
  {
   "cell_type": "code",
   "execution_count": null,
   "metadata": {},
   "outputs": [],
   "source": [
    "scale.image_zoomed.shape"
   ]
  },
  {
   "cell_type": "code",
   "execution_count": null,
   "metadata": {},
   "outputs": [],
   "source": []
  },
  {
   "cell_type": "code",
   "execution_count": null,
   "metadata": {},
   "outputs": [],
   "source": []
  }
 ],
 "metadata": {
  "kernelspec": {
   "display_name": "Python 3",
   "language": "python",
   "name": "python3"
  },
  "language_info": {
   "codemirror_mode": {
    "name": "ipython",
    "version": 3
   },
   "file_extension": ".py",
   "mimetype": "text/x-python",
   "name": "python",
   "nbconvert_exporter": "python",
   "pygments_lexer": "ipython3",
   "version": "3.7.1"
  }
 },
 "nbformat": 4,
 "nbformat_minor": 2
}
