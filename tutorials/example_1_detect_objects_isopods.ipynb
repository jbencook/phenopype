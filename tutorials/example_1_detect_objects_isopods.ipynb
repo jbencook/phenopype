{
 "cells": [
  {
   "cell_type": "markdown",
   "metadata": {},
   "source": [
    "# Example 1: Measuring shape, size and colour of isopods  \n",
    "\n",
    "[ADD TEXT]"
   ]
  },
  {
   "cell_type": "code",
   "execution_count": 1,
   "metadata": {},
   "outputs": [],
   "source": [
    "import phenopype as pp"
   ]
  },
  {
   "cell_type": "code",
   "execution_count": 2,
   "metadata": {},
   "outputs": [],
   "source": [
    "filepath = r\"images/isopods.jpg\"\n",
    "\n",
    "ct = pp.load_image(filepath, cont=True) ## load image as container"
   ]
  },
  {
   "cell_type": "code",
   "execution_count": 3,
   "metadata": {},
   "outputs": [
    {
     "name": "stdout",
     "output_type": "stream",
     "text": [
      "- create mask\n"
     ]
    }
   ],
   "source": [
    "pp.preprocessing.create_mask(ct)"
   ]
  },
  {
   "cell_type": "code",
   "execution_count": 5,
   "metadata": {},
   "outputs": [
    {
     "name": "stdout",
     "output_type": "stream",
     "text": [
      "- measure pixel-to-mm-ratio\n",
      "Scale set\n",
      "- add column length\n",
      "Template selected\n"
     ]
    }
   ],
   "source": [
    "pp.preprocessing.create_scale(ct, template=True)"
   ]
  },
  {
   "cell_type": "code",
   "execution_count": 6,
   "metadata": {},
   "outputs": [
    {
     "data": {
      "text/html": [
       "<div>\n",
       "<style scoped>\n",
       "    .dataframe tbody tr th:only-of-type {\n",
       "        vertical-align: middle;\n",
       "    }\n",
       "\n",
       "    .dataframe tbody tr th {\n",
       "        vertical-align: top;\n",
       "    }\n",
       "\n",
       "    .dataframe thead th {\n",
       "        text-align: right;\n",
       "    }\n",
       "</style>\n",
       "<table border=\"1\" class=\"dataframe\">\n",
       "  <thead>\n",
       "    <tr style=\"text-align: right;\">\n",
       "      <th></th>\n",
       "      <th>filename</th>\n",
       "      <th>width</th>\n",
       "      <th>height</th>\n",
       "      <th>size_ratio_original</th>\n",
       "      <th>filename</th>\n",
       "      <th>width</th>\n",
       "      <th>height</th>\n",
       "      <th>size_ratio_original</th>\n",
       "      <th>mask</th>\n",
       "      <th>include</th>\n",
       "      <th>coords</th>\n",
       "    </tr>\n",
       "  </thead>\n",
       "  <tbody>\n",
       "    <tr>\n",
       "      <th>0</th>\n",
       "      <td>isopods.jpg</td>\n",
       "      <td>2996</td>\n",
       "      <td>1997</td>\n",
       "      <td>1</td>\n",
       "      <td>isopods.jpg</td>\n",
       "      <td>2996.0</td>\n",
       "      <td>1997.0</td>\n",
       "      <td>1.0</td>\n",
       "      <td>mask1</td>\n",
       "      <td>True</td>\n",
       "      <td>[(488, 269), (2615, 269), (2615, 1766), (488, ...</td>\n",
       "    </tr>\n",
       "    <tr>\n",
       "      <th>1</th>\n",
       "      <td>isopods.jpg</td>\n",
       "      <td>2996</td>\n",
       "      <td>1997</td>\n",
       "      <td>1</td>\n",
       "      <td>isopods.jpg</td>\n",
       "      <td>2996.0</td>\n",
       "      <td>1997.0</td>\n",
       "      <td>1.0</td>\n",
       "      <td>mask1</td>\n",
       "      <td>True</td>\n",
       "      <td>[(1728, 152), (2055, 152), (2055, 386), (1728,...</td>\n",
       "    </tr>\n",
       "    <tr>\n",
       "      <th>2</th>\n",
       "      <td>isopods.jpg</td>\n",
       "      <td>2996</td>\n",
       "      <td>1997</td>\n",
       "      <td>1</td>\n",
       "      <td>NaN</td>\n",
       "      <td>NaN</td>\n",
       "      <td>NaN</td>\n",
       "      <td>NaN</td>\n",
       "      <td>scale</td>\n",
       "      <td>False</td>\n",
       "      <td>[(592, 1143), (835, 1143), (835, 1370), (592, ...</td>\n",
       "    </tr>\n",
       "  </tbody>\n",
       "</table>\n",
       "</div>"
      ],
      "text/plain": [
       "      filename  width  height  size_ratio_original     filename   width  \\\n",
       "0  isopods.jpg   2996    1997                    1  isopods.jpg  2996.0   \n",
       "1  isopods.jpg   2996    1997                    1  isopods.jpg  2996.0   \n",
       "2  isopods.jpg   2996    1997                    1          NaN     NaN   \n",
       "\n",
       "   height  size_ratio_original   mask include  \\\n",
       "0  1997.0                  1.0  mask1    True   \n",
       "1  1997.0                  1.0  mask1    True   \n",
       "2     NaN                  NaN  scale   False   \n",
       "\n",
       "                                              coords  \n",
       "0  [(488, 269), (2615, 269), (2615, 1766), (488, ...  \n",
       "1  [(1728, 152), (2055, 152), (2055, 386), (1728,...  \n",
       "2  [(592, 1143), (835, 1143), (835, 1370), (592, ...  "
      ]
     },
     "execution_count": 6,
     "metadata": {},
     "output_type": "execute_result"
    }
   ],
   "source": [
    "ct.df_masks"
   ]
  },
  {
   "cell_type": "code",
   "execution_count": 6,
   "metadata": {},
   "outputs": [
    {
     "name": "stdout",
     "output_type": "stream",
     "text": [
      " - show mask: mask1.\n",
      " - show mask: mask1.\n",
      " - show mask: scale.\n"
     ]
    }
   ],
   "source": [
    "pp.visualization.show_masks(ct)"
   ]
  },
  {
   "cell_type": "code",
   "execution_count": 9,
   "metadata": {},
   "outputs": [],
   "source": [
    "pp.show_image(ct.canvas)"
   ]
  },
  {
   "cell_type": "code",
   "execution_count": 5,
   "metadata": {},
   "outputs": [
    {
     "name": "stdout",
     "output_type": "stream",
     "text": [
      "- applying mask: mask1\n",
      "- applying mask: scale\n"
     ]
    }
   ],
   "source": [
    "pp.segmentation.threshold(ct)"
   ]
  },
  {
   "cell_type": "code",
   "execution_count": 10,
   "metadata": {},
   "outputs": [],
   "source": [
    "pp.segmentation.find_contours(ct)"
   ]
  },
  {
   "cell_type": "code",
   "execution_count": null,
   "metadata": {},
   "outputs": [],
   "source": []
  }
 ],
 "metadata": {
  "kernelspec": {
   "display_name": "Python 3",
   "language": "python",
   "name": "python3"
  },
  "language_info": {
   "codemirror_mode": {
    "name": "ipython",
    "version": 3
   },
   "file_extension": ".py",
   "mimetype": "text/x-python",
   "name": "python",
   "nbconvert_exporter": "python",
   "pygments_lexer": "ipython3",
   "version": "3.7.5"
  }
 },
 "nbformat": 4,
 "nbformat_minor": 2
}
