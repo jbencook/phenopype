{
 "cells": [
  {
   "cell_type": "markdown",
   "metadata": {},
   "source": [
    "# Example 1: Measuring shape, size and colour of isopods  \n",
    "\n",
    "Little nugget of information: this was the original computer vision problem that phenopype was intended to solve (it's predecessor [\"iso_cv\"](https://github.com/mluerig/iso_cv) was not much more than a script-collection).\n",
    "\n",
    "In this example I am demonstrating all three phenopype workflows ([prototyping](#prototyping), [low thoughput](#low-throughput) and [high throughput](#high-throughput)). For a project, you would probably only use either the high or low throughput approach, but the protoypting approach for this example nicely decomposes the all the required steps for a classic computer vision workflow. "
   ]
  },
  {
   "cell_type": "markdown",
   "metadata": {},
   "source": [
    "## Prototyping"
   ]
  },
  {
   "cell_type": "markdown",
   "metadata": {},
   "source": [
    "## Low throughput"
   ]
  },
  {
   "cell_type": "code",
   "execution_count": 1,
   "metadata": {},
   "outputs": [],
   "source": [
    "import phenopype as pp"
   ]
  },
  {
   "cell_type": "code",
   "execution_count": 2,
   "metadata": {},
   "outputs": [],
   "source": [
    "filepath = r\"images/isopods.jpg\"\n",
    "\n",
    "ct = pp.load_image(filepath, cont=True) ## load image as container"
   ]
  },
  {
   "cell_type": "code",
   "execution_count": 3,
   "metadata": {},
   "outputs": [
    {
     "name": "stdout",
     "output_type": "stream",
     "text": [
      "- create mask\n"
     ]
    }
   ],
   "source": [
    "pp.preprocessing.create_mask(ct)"
   ]
  },
  {
   "cell_type": "code",
   "execution_count": 6,
   "metadata": {},
   "outputs": [
    {
     "name": "stdout",
     "output_type": "stream",
     "text": [
      "- measure pixel-to-mm-ratio\n",
      "Scale set\n",
      "- add column length\n",
      "Template selected\n"
     ]
    }
   ],
   "source": [
    "pp.preprocessing.create_scale(ct, template=True)"
   ]
  },
  {
   "cell_type": "code",
   "execution_count": 7,
   "metadata": {},
   "outputs": [
    {
     "data": {
      "text/html": [
       "<div>\n",
       "<style scoped>\n",
       "    .dataframe tbody tr th:only-of-type {\n",
       "        vertical-align: middle;\n",
       "    }\n",
       "\n",
       "    .dataframe tbody tr th {\n",
       "        vertical-align: top;\n",
       "    }\n",
       "\n",
       "    .dataframe thead th {\n",
       "        text-align: right;\n",
       "    }\n",
       "</style>\n",
       "<table border=\"1\" class=\"dataframe\">\n",
       "  <thead>\n",
       "    <tr style=\"text-align: right;\">\n",
       "      <th></th>\n",
       "      <th>filename</th>\n",
       "      <th>width</th>\n",
       "      <th>height</th>\n",
       "      <th>size_ratio_original</th>\n",
       "      <th>mask</th>\n",
       "      <th>include</th>\n",
       "      <th>coords</th>\n",
       "    </tr>\n",
       "  </thead>\n",
       "  <tbody>\n",
       "    <tr>\n",
       "      <th>0</th>\n",
       "      <td>isopods.jpg</td>\n",
       "      <td>2996</td>\n",
       "      <td>1997</td>\n",
       "      <td>1</td>\n",
       "      <td>mask1</td>\n",
       "      <td>True</td>\n",
       "      <td>[(500, 266), (2630, 266), (2630, 1751), (500, ...</td>\n",
       "    </tr>\n",
       "    <tr>\n",
       "      <th>1</th>\n",
       "      <td>isopods.jpg</td>\n",
       "      <td>2996</td>\n",
       "      <td>1997</td>\n",
       "      <td>1</td>\n",
       "      <td>mask1</td>\n",
       "      <td>True</td>\n",
       "      <td>[(1773, 152), (2055, 152), (2055, 332), (1773,...</td>\n",
       "    </tr>\n",
       "    <tr>\n",
       "      <th>0</th>\n",
       "      <td>isopods.jpg</td>\n",
       "      <td>2996</td>\n",
       "      <td>1997</td>\n",
       "      <td>1</td>\n",
       "      <td>scale</td>\n",
       "      <td>False</td>\n",
       "      <td>[(594, 1139), (835, 1139), (835, 1370), (594, ...</td>\n",
       "    </tr>\n",
       "  </tbody>\n",
       "</table>\n",
       "</div>"
      ],
      "text/plain": [
       "      filename  width  height  size_ratio_original   mask include  \\\n",
       "0  isopods.jpg   2996    1997                    1  mask1    True   \n",
       "1  isopods.jpg   2996    1997                    1  mask1    True   \n",
       "0  isopods.jpg   2996    1997                    1  scale   False   \n",
       "\n",
       "                                              coords  \n",
       "0  [(500, 266), (2630, 266), (2630, 1751), (500, ...  \n",
       "1  [(1773, 152), (2055, 152), (2055, 332), (1773,...  \n",
       "0  [(594, 1139), (835, 1139), (835, 1370), (594, ...  "
      ]
     },
     "execution_count": 7,
     "metadata": {},
     "output_type": "execute_result"
    }
   ],
   "source": [
    "ct.df_masks"
   ]
  },
  {
   "cell_type": "code",
   "execution_count": 8,
   "metadata": {},
   "outputs": [
    {
     "name": "stdout",
     "output_type": "stream",
     "text": [
      " - show mask: mask1.\n",
      " - show mask: mask1.\n",
      " - show mask: scale.\n"
     ]
    }
   ],
   "source": [
    "pp.visualization.show_masks(ct)"
   ]
  },
  {
   "cell_type": "code",
   "execution_count": 9,
   "metadata": {},
   "outputs": [],
   "source": [
    "pp.show_image(ct.canvas)"
   ]
  },
  {
   "cell_type": "code",
   "execution_count": 10,
   "metadata": {},
   "outputs": [
    {
     "name": "stdout",
     "output_type": "stream",
     "text": [
      "- applying mask: mask1\n",
      "- applying mask: scale\n"
     ]
    }
   ],
   "source": [
    "pp.segmentation.threshold(ct)"
   ]
  },
  {
   "cell_type": "code",
   "execution_count": 14,
   "metadata": {},
   "outputs": [],
   "source": [
    "pp.segmentation.find_contours(ct)"
   ]
  },
  {
   "cell_type": "code",
   "execution_count": 15,
   "metadata": {},
   "outputs": [],
   "source": [
    "pp.visualization.show_contours(ct)"
   ]
  },
  {
   "cell_type": "code",
   "execution_count": 16,
   "metadata": {},
   "outputs": [],
   "source": [
    "pp.show_image(ct.canvas)\n"
   ]
  },
  {
   "cell_type": "code",
   "execution_count": 24,
   "metadata": {},
   "outputs": [],
   "source": []
  },
  {
   "cell_type": "code",
   "execution_count": 26,
   "metadata": {},
   "outputs": [
    {
     "name": "stdout",
     "output_type": "stream",
     "text": [
      "- applying mask: mask1\n",
      "- applying mask: scale\n",
      " - show mask: mask1.\n",
      " - show mask: mask1.\n",
      " - show mask: scale.\n"
     ]
    }
   ],
   "source": [
    "ct.reset()\n",
    "pp.segmentation.threshold(ct)\n",
    "pp.segmentation.find_contours(ct, min_area=100)\n",
    "pp.visualization.show_contours(ct)\n",
    "pp.visualization.show_masks(ct)\n",
    "pp.show_image(ct.canvas)"
   ]
  },
  {
   "cell_type": "code",
   "execution_count": 23,
   "metadata": {},
   "outputs": [],
   "source": [
    "pp.show_image(ct.image)"
   ]
  },
  {
   "cell_type": "code",
   "execution_count": null,
   "metadata": {},
   "outputs": [],
   "source": []
  },
  {
   "cell_type": "markdown",
   "metadata": {},
   "source": [
    "## High throughput"
   ]
  },
  {
   "cell_type": "code",
   "execution_count": null,
   "metadata": {},
   "outputs": [],
   "source": []
  }
 ],
 "metadata": {
  "kernelspec": {
   "display_name": "Python 3",
   "language": "python",
   "name": "python3"
  },
  "language_info": {
   "codemirror_mode": {
    "name": "ipython",
    "version": 3
   },
   "file_extension": ".py",
   "mimetype": "text/x-python",
   "name": "python",
   "nbconvert_exporter": "python",
   "pygments_lexer": "ipython3",
   "version": "3.7.5"
  }
 },
 "nbformat": 4,
 "nbformat_minor": 2
}
