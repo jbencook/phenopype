{
 "cells": [
  {
   "cell_type": "markdown",
   "metadata": {},
   "source": [
    "# Tutorial 3: Setting up and managing phenopype projects\n"
   ]
  },
  {
   "cell_type": "markdown",
   "metadata": {},
   "source": [
    "A central aspect of efficiently using Phenopype is to work from within a `project`. Phenopype projects are composed of a directory tree in which each folder contains the copy or a link to a single raw image file (1). Alongside the images to be processed, users can store configuration file for the `pype` routine that we covered in the  [previous tutorial](tutorial_2_phenopype_workflow.ipynb): configurations files can be created using preconfigured templates, which can easily be modifed (2). Once raw images have been added and configuration files are in place, the `pype` routine is used until results are satisfactory (3). Together, the raw images, the `pype`-configuration files and the saved results files are all that is needed to completely reproduce any phenotypic data that was collected in the process (4). "
   ]
  },
  {
   "cell_type": "markdown",
   "metadata": {},
   "source": [
    "## Create project and add images"
   ]
  },
  {
   "cell_type": "markdown",
   "metadata": {},
   "source": [
    "<center>\n",
    "<div style=\"width:500px; text-align: left\" >\n",
    "    \n",
    "![Step 1](_assets/workflow_high_step1.png)\n",
    "    \n",
    "**Step. 1**: Create a phenopype project and organize raw images into separate folders where all relevant data, attributes and results are stored. \n",
    "    \n",
    "</div>\n",
    "</center>"
   ]
  },
  {
   "cell_type": "markdown",
   "metadata": {},
   "source": [
    "A Phenopype project directory can be initiatlized with the `project` function. The *phenoype project root folder* should be separate from the raw data, e.g. as a folder inside of your *main project folder*:"
   ]
  },
  {
   "cell_type": "code",
   "execution_count": null,
   "metadata": {},
   "outputs": [],
   "source": [
    "import phenopype as pp\n",
    "import os"
   ]
  },
  {
   "cell_type": "code",
   "execution_count": null,
   "metadata": {},
   "outputs": [],
   "source": [
    "myproj = pp.project(root_dir=r\"../_temp/my_project/phenopype_analysis\") ## doesn't have to be \"myproj\", can be named anything"
   ]
  },
  {
   "cell_type": "markdown",
   "metadata": {},
   "source": [
    "Next step is to add images to the project. You can do so with the `add_files` method of the created project (a *method* is an executable function that belongs to an existing *object*, in this case \"myproj. see [this SO question](https://stackoverflow.com/questions/155609/whats-the-difference-between-a-method-and-a-function)). The function offers some flexibility in terms of which files to import. Most important arguments here are `include`, `exclude` and `filetypes`. For example, given the following list of images:"
   ]
  },
  {
   "cell_type": "code",
   "execution_count": null,
   "metadata": {},
   "outputs": [],
   "source": [
    "os.listdir(\"images\") ## called from phenopype-master"
   ]
  },
  {
   "cell_type": "markdown",
   "metadata": {},
   "source": [
    "If we want to import \"stickle1\", \"stickle2\", and \"stickle3\", we can do a combination `include` and `exclude` (also prints all other default settings):"
   ]
  },
  {
   "cell_type": "code",
   "execution_count": null,
   "metadata": {},
   "outputs": [],
   "source": [
    "myproj.add_files(image_dir=\"images\",\n",
    "                 include=\"stickle\",       ## can be type \"str\" or type \"list\"\n",
    "                 exclude=[\"side\",\"top\"]   ## can be type \"str\" or type \"list\"\n",
    "                ) "
   ]
  },
  {
   "cell_type": "markdown",
   "metadata": {},
   "source": [
    "The three images have the same (nonstandard) file ending, so we can also use the filetype argument (and the overwrite argument, because have already added them above):"
   ]
  },
  {
   "cell_type": "code",
   "execution_count": null,
   "metadata": {},
   "outputs": [],
   "source": [
    " myproj.add_files(image_dir=\"images\",\n",
    "                 filetypes=\"JPG\" ,      ## can be type \"str\" or type \"list\"\n",
    "                 overwrite=True\n",
    "                ) "
   ]
  },
  {
   "cell_type": "markdown",
   "metadata": {},
   "source": [
    "The remaining settings are `raw_mode`, `search_mode`, `unique_mode`. `raw_mode` determines whether raw files should be copied to each folder in the Phenopype directory tree (using `copy` [default]), or just their filepath (using `link`), which can be useful if data sets contain many or very large images. `search_mode` indicates whether only the top directory (`dir` [default]), or also all subdirectories (`recursive`) should be included in the search. `unique_mode` indicates whether files should be unique by their path (`filepath` [default]) or only by their name (`filename`) - duplicate files will be skipped.  "
   ]
  },
  {
   "cell_type": "code",
   "execution_count": null,
   "metadata": {},
   "outputs": [],
   "source": [
    "help(pp.project.add_files)"
   ]
  },
  {
   "cell_type": "markdown",
   "metadata": {},
   "source": [
    "## Add pype-configuration files "
   ]
  },
  {
   "cell_type": "markdown",
   "metadata": {},
   "source": [
    "<center>\n",
    "<div style=\"width:500px; text-align: left\" >\n",
    "    \n",
    "![Step 2](_assets/workflow_high_step2.png)\n",
    "    \n",
    "**Step. 2**: Create configuration files and store them alongside the raw images.\n",
    "    \n",
    "</div>\n",
    "</center>"
   ]
  },
  {
   "cell_type": "markdown",
   "metadata": {},
   "source": [
    "In the next step we prepare the files we added for use with the `pype` routine by addding a configuration file with the `add_config` method. Instead of adding the functions one by one we can load presets that are appropriate for the given computer vision analysis.\n",
    "\n",
    "Currently, the different templates are stored inside a Python file, and can be inspected using `dir(pp.presets)` to show all existing presets, and `print(pp.presets.landmarks_plain)` to show the contents."
   ]
  },
  {
   "cell_type": "code",
   "execution_count": null,
   "metadata": {},
   "outputs": [],
   "source": [
    "dir(pp.presets)"
   ]
  },
  {
   "cell_type": "code",
   "execution_count": null,
   "metadata": {},
   "outputs": [],
   "source": [
    "print(pp.presets.landmarks_plain)"
   ]
  },
  {
   "cell_type": "markdown",
   "metadata": {},
   "source": [
    "For example, if we want to place landmarks, we can use one of the corresponding presets.  \n"
   ]
  },
  {
   "cell_type": "code",
   "execution_count": null,
   "metadata": {},
   "outputs": [],
   "source": [
    "myproj.add_config(name = \"lm\", config_preset=\"landmarks_plain\")"
   ]
  },
  {
   "cell_type": "markdown",
   "metadata": {},
   "source": [
    "Now all images folders contain a configuration file in *yaml*  format (see [Tutorial 2](tutorial_2_phenopype_workflow.ipynb#yaml-syntax) and the [resources section](resources.html) of the Documentation for details). "
   ]
  },
  {
   "cell_type": "markdown",
   "metadata": {},
   "source": [
    "An imporant feature of `add_config` is the opportunity to evulate and edit the template before it gets saved in the folders. This is done by setting the flag `interactive=True` in the arguments. For example, if we globally want to change point and label size of the landmark preset, we can do: \n",
    "\n",
    "<center>\n",
    "<div style=\"width:500px; text-align: left\" >\n",
    "    \n",
    "![Edit template](_assets/change_template.png)\n",
    "    \n",
    "Edit the templates before saving them to the image folders.\n",
    "    \n",
    "</div>\n",
    "</center>\n",
    "\n",
    "**NOTE 1:** The `pype` function opens a text editor and a python window. To modify the `pype` configuration templates, by default, the first image in your project directory tree will copied over to the phenopype project root directory. After the windows have opened they can be controlled as described as in [Tutorial 2](tutorial_2_phenopype_workflow.ipynb#pype-behavior).\n",
    "\n",
    "**NOTE 2:** If you have issues with this step, e.g. no text editor window is popping up, make sure you have set the default app for opening *yaml* files. Furthermore, consult the [installation instructions](installation.html#choose-a-text-editor) and check if your text editor is configured correctly. \n"
   ]
  },
  {
   "cell_type": "code",
   "execution_count": null,
   "metadata": {},
   "outputs": [],
   "source": [
    "myproj.add_config(name = \"lm\", \n",
    "                  config_preset=\"landmarks_plain\",\n",
    "                  interactive=True,\n",
    "                  overwrite=True                 ## needed because config with the name \"lm\" already exists in the folders\n",
    "                 )"
   ]
  },
  {
   "cell_type": "code",
   "execution_count": null,
   "metadata": {},
   "outputs": [],
   "source": [
    "help(pp.project.add_config)"
   ]
  },
  {
   "cell_type": "markdown",
   "metadata": {},
   "source": [
    "## Saving and loading a project"
   ]
  },
  {
   "cell_type": "markdown",
   "metadata": {},
   "source": [
    "Project objects can be saved using a the static method `save` (static = unbound to any object). This will save the project data to the project's root directory. Currently, the only useful information stored in the project object is the list of all contained directories. Future releases will make more use of the project object. \n",
    "\n",
    "**NOTE:** `pp.project.save` saves ONLY the project data, all data collected with the pype method or any of the other workflows need to be saved inside the folders using the appropriate [export](api.html#export) functions."
   ]
  },
  {
   "cell_type": "code",
   "execution_count": null,
   "metadata": {},
   "outputs": [],
   "source": [
    "pp.project.save(myproj, overwrite=True)"
   ]
  },
  {
   "cell_type": "markdown",
   "metadata": {},
   "source": [
    "To load the project again, add provide the path of the `project.data` file in the root folder to the `load` method:"
   ]
  },
  {
   "cell_type": "code",
   "execution_count": null,
   "metadata": {},
   "outputs": [],
   "source": [
    "myproj = pp.project.load(r\"../_temp/my_project/phenopype_analysis/project.data\")"
   ]
  },
  {
   "cell_type": "markdown",
   "metadata": {},
   "source": [
    "## Applying the pype to project folders"
   ]
  },
  {
   "cell_type": "markdown",
   "metadata": {},
   "source": [
    "<center>\n",
    "<div style=\"width:800px; text-align: left\" >\n",
    "    \n",
    "![Step 3](_assets/workflow_high_step3.png)\n",
    "    \n",
    "**Step. 3**: Apply `pype` function image by image.\n",
    "    \n",
    "</div>\n",
    "</center>"
   ]
  },
  {
   "cell_type": "markdown",
   "metadata": {},
   "source": [
    "After adding images and configuration, all is set to process your dataset with high throughput. Using a simple `for` loop, we go through all directories one by one. You can modify the configuration file and controll the window as described as in [Tutorial 2](tutorial_2_phenopype_workflow.ipynb#yaml-syntax). The `skip` argument will allow to skip files with a given config name you have already analyzed. This allows you to return to the point where you left off.\n",
    "\n",
    "**NOTE 1:** Make sure to specifiy the name of the config file you added before, in this case, \"lm\". The config file name serves multiple purposes: on the one hand it tells the `pype` function which configuration to load, if you have multiple in one directory. On the other hand, the name gets appended to all results files that are produced by this constellation.  \n",
    "\n",
    "**NOTE 2:** Consult [Tutorial 2](tutorial_2_phenopype_workflow.ipynb#pype-behavior) to understand `pype` behavior. For example, the `pype` will automatically save all collected data, and by default overwrite any existing results files, but the latter only if indicated in the config file.   "
   ]
  },
  {
   "cell_type": "code",
   "execution_count": null,
   "metadata": {},
   "outputs": [],
   "source": [
    "for img in myproj.dirpaths:\n",
    "    pp.pype(img, \n",
    "            name=\"lm\",         ## loads the config file \"pype_config_lm.yaml\". \"lm\" gets appended to all results files\n",
    "            skip=True          ## skip=True will skip over any directories that already contain results files with \"lm\"\n",
    "           )"
   ]
  },
  {
   "cell_type": "markdown",
   "metadata": {},
   "source": [
    "<center>\n",
    "<div style=\"width:500px; text-align: left\" >\n",
    "    \n",
    "![Step 4](_assets/workflow_high_step4.png)\n",
    "    \n",
    "**Step. 4**: Each folder contains all information necessary to reproduce the collected phenopytic data. Ouput from different `pype` runs can be stored side by side in the same folders. \n",
    "    \n",
    "</div>\n",
    "</center>"
   ]
  },
  {
   "cell_type": "markdown",
   "metadata": {},
   "source": [
    "As mentioned above, it's possible to have multiple configuration files side by side in phenopype folders. For example, if we want to implement an alternative set of landmarks, we can simply do:"
   ]
  },
  {
   "cell_type": "code",
   "execution_count": null,
   "metadata": {},
   "outputs": [],
   "source": [
    "myproj.add_config(name = \"lm2\",                  ## add different name (my not contain underscores or other special characters)\n",
    "                  config_preset=\"landmarks_plain\"    ## same preset\n",
    "                 )"
   ]
  },
  {
   "cell_type": "code",
   "execution_count": null,
   "metadata": {},
   "outputs": [],
   "source": [
    "for img in myproj.dirpaths:\n",
    "    pp.pype(img, \n",
    "            name=\"lm2\",         ## loads the config file \"pype_config_lm2.yaml\". \"lm2\" gets appended to all results files\n",
    "            skip=True          ## skip=True will skip over any directories that already contain results files with \"lm2\"\n",
    "           )"
   ]
  },
  {
   "cell_type": "code",
   "execution_count": null,
   "metadata": {},
   "outputs": [],
   "source": [
    "os.listdir(r\"../_temp/my_project/phenopype_analysis\\data\\0__stickle1\")"
   ]
  },
  {
   "cell_type": "code",
   "execution_count": null,
   "metadata": {},
   "outputs": [],
   "source": []
  }
 ],
 "metadata": {
  "kernelspec": {
   "display_name": "Python 3",
   "language": "python",
   "name": "python3"
  },
  "language_info": {
   "codemirror_mode": {
    "name": "ipython",
    "version": 3
   },
   "file_extension": ".py",
   "mimetype": "text/x-python",
   "name": "python",
   "nbconvert_exporter": "python",
   "pygments_lexer": "ipython3",
   "version": "3.7.5"
  }
 },
 "nbformat": 4,
 "nbformat_minor": 2
}
