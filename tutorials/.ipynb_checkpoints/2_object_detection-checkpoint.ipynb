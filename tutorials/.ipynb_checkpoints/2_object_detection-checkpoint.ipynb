{
 "cells": [
  {
   "cell_type": "code",
   "execution_count": 3,
   "metadata": {},
   "outputs": [
    {
     "name": "stdout",
     "output_type": "stream",
     "text": [
      "E:\\git_repos\\phenopype\\phenopype\\__init__.py\n"
     ]
    }
   ],
   "source": [
    "#%% DEV_startup\n",
    "\n",
    "import os\n",
    "import cv2\n",
    "import trackpy as tp\n",
    "\n",
    "import numpy as np\n",
    "import math\n",
    "import pandas as pd\n",
    "import numpy.ma as ma\n",
    "\n",
    "os.chdir(\"E:\\\\git_repos\\\\phenopype\")\n",
    "\n",
    "import phenopype as pp\n",
    "from importlib import reload\n",
    "reload(pp)\n",
    "print(pp.__file__)\n",
    "\n",
    "self = type('dummy_self', (object,), {})()\n",
    "kwargs = dict()\n",
    "\n",
    "cv2.destroyAllWindows()\n",
    "\n",
    "os.chdir(\"tutorials\\\\\")"
   ]
  },
  {
   "cell_type": "markdown",
   "metadata": {},
   "source": [
    "# Tutorial 2: object detection\n",
    "\n",
    "This example demonstrates basic `phenopype` functionality by showing how multiple objects can be found and extracted from images via thresholding. The images used for this tutorial contain isopods sitting inside a white tray underneath a camera stand, photopgraphed with a 50 mm lens on a Canon 750D. \n",
    "***\n",
    "* [collect images](#collect)\n",
    "* [set a scale](#scale)\n",
    "* [object finder](#object)"
   ]
  },
  {
   "cell_type": "markdown",
   "metadata": {},
   "source": [
    "# collect images<a name=\"collect\"></a>\n",
    "\n",
    "Start by loading the program. We can use `import as` with shorter bindings to save some typing. Next we specificy the folder containing the images, making a project object that contains all the image names and paths. \n",
    "\n",
    "For this example, we only want to include specific images that contain single objects (which I labelled with \"single\"). We can do so using `include` (or, `exclude` to skip images whose filenames contain this string)."
   ]
  },
  {
   "cell_type": "code",
   "execution_count": 7,
   "metadata": {},
   "outputs": [
    {
     "name": "stdout",
     "output_type": "stream",
     "text": [
      "\n",
      "\n",
      "----------------------------------------------------------------\n",
      "Project settings - \"My project, 2019-02-14\":\n",
      "\n",
      "\n",
      "Image directory: images\n",
      "Output directory: images_out\n",
      "Mode: tree\n",
      "Filetypes: []\n",
      "Include:['single']\n",
      "Exclude: []\n",
      "----------------------------------------------------------------\n",
      "Filenames: \n",
      "['isopods_single_1.jpg', 'isopods_single_2.jpg', 'isopods_single_3.jpg', 'isopods_single_4.jpg', 'isopods_single_5.jpg', 'isopods_single_6.jpg']\n"
     ]
    }
   ],
   "source": [
    "import phenopype as pp\n",
    "\n",
    "my_proj = pp.project_maker(image_dir = \"images\", include=[\"single\"]) \n",
    " \n",
    "# HINT: image_dir can be relative or absolute \n",
    "# e.g. something like \"your_download_directory//phenopype-master//tutorials//images\""
   ]
  },
  {
   "cell_type": "markdown",
   "metadata": {},
   "source": [
    "So, for this small set, let's quickly have a look at all our images. We can do this with a simple for loop, the collected absolute filepaths (accessible from the `my_proj` object) and a function from phenotype to look at images. Close each image by hitting enter or closing it and move on to the next one:"
   ]
  },
  {
   "cell_type": "code",
   "execution_count": 9,
   "metadata": {},
   "outputs": [],
   "source": [
    "for path in my_proj.filepaths:\n",
    "    pp.show_img(path)"
   ]
  },
  {
   "cell_type": "markdown",
   "metadata": {},
   "source": [
    "## setting a scale <a name=\"scale\"></a>\n",
    "\n",
    "The first image of this set is a scale. We will use it to get the pixel to mm ratio. To do so we we load the image into the `scale_maker`:"
   ]
  },
  {
   "cell_type": "code",
   "execution_count": 10,
   "metadata": {
    "scrolled": true
   },
   "outputs": [
    {
     "ename": "NameError",
     "evalue": "name 'proj' is not defined",
     "output_type": "error",
     "traceback": [
      "\u001b[1;31m---------------------------------------------------------------------------\u001b[0m",
      "\u001b[1;31mNameError\u001b[0m                                 Traceback (most recent call last)",
      "\u001b[1;32m<ipython-input-10-387c4a7db7fa>\u001b[0m in \u001b[0;36m<module>\u001b[1;34m\u001b[0m\n\u001b[1;32m----> 1\u001b[1;33m \u001b[0mscale_img\u001b[0m \u001b[1;33m=\u001b[0m \u001b[0mproj\u001b[0m\u001b[1;33m.\u001b[0m\u001b[0mfilepaths\u001b[0m\u001b[1;33m[\u001b[0m\u001b[1;36m0\u001b[0m\u001b[1;33m]\u001b[0m\u001b[1;33m\u001b[0m\u001b[1;33m\u001b[0m\u001b[0m\n\u001b[0m\u001b[0;32m      2\u001b[0m \u001b[1;33m\u001b[0m\u001b[0m\n\u001b[0;32m      3\u001b[0m \u001b[0mscale\u001b[0m \u001b[1;33m=\u001b[0m \u001b[0mpp\u001b[0m\u001b[1;33m.\u001b[0m\u001b[0mscale_maker\u001b[0m\u001b[1;33m(\u001b[0m\u001b[1;33m)\u001b[0m\u001b[1;33m\u001b[0m\u001b[1;33m\u001b[0m\u001b[0m\n\u001b[0;32m      4\u001b[0m \u001b[0mscale\u001b[0m\u001b[1;33m.\u001b[0m\u001b[0mgrab\u001b[0m\u001b[1;33m(\u001b[0m\u001b[0mimage_path\u001b[0m\u001b[1;33m=\u001b[0m\u001b[0mimg\u001b[0m\u001b[1;33m,\u001b[0m \u001b[0mlength\u001b[0m\u001b[1;33m=\u001b[0m\u001b[1;36m10\u001b[0m\u001b[1;33m,\u001b[0m \u001b[0munit\u001b[0m\u001b[1;33m=\u001b[0m\u001b[1;34m\"mm\"\u001b[0m\u001b[1;33m,\u001b[0m \u001b[0mmode\u001b[0m\u001b[1;33m=\u001b[0m\u001b[1;34m\"box\"\u001b[0m\u001b[1;33m,\u001b[0m \u001b[0mzoom\u001b[0m\u001b[1;33m=\u001b[0m\u001b[1;32mTrue\u001b[0m\u001b[1;33m,\u001b[0m \u001b[0mshow\u001b[0m\u001b[1;33m=\u001b[0m\u001b[1;32mTrue\u001b[0m\u001b[1;33m)\u001b[0m\u001b[1;33m\u001b[0m\u001b[1;33m\u001b[0m\u001b[0m\n",
      "\u001b[1;31mNameError\u001b[0m: name 'proj' is not defined"
     ]
    }
   ],
   "source": [
    "scale_img = proj.filepaths[0]\n",
    "\n",
    "scale = pp.scale_maker(image=scale_img, length=10, unit=\"mm\", show=True)\n"
   ]
  },
  {
   "cell_type": "markdown",
   "metadata": {},
   "source": [
    "We grabbed the scale - let's look at it to confirm that everything worked, and that we can find it in the following images."
   ]
  },
  {
   "cell_type": "code",
   "execution_count": null,
   "metadata": {},
   "outputs": [],
   "source": [
    "image_overlay = cv2.cvtColor(scale.image_overlay, cv2.COLOR_BGR2RGB)\n",
    "image_zoomed = cv2.cvtColor(scale.image_zoomed, cv2.COLOR_BGR2RGB)\n",
    "\n",
    "f = plt.figure(figsize=(7, 5), dpi=150)\n",
    "f.add_subplot(1,2, 1)\n",
    "plt.imshow(image_overlay)\n",
    "f.add_subplot(1,2, 2)\n",
    "plt.imshow(image_zoomed)\n",
    "plt.show(block=True)"
   ]
  },
  {
   "cell_type": "markdown",
   "metadata": {},
   "source": [
    "Now we can loop through all the images we have in our project file-list. Because we want both the filename and it's path, which are stored separately, we need to loop through both lists simultaneously (using `zip` that's no problem). Inside the loop, we use `scale.detect` (automatic), `polygon.maker` (manual), and `object_detector` (automatic) we know from the previous example."
   ]
  },
  {
   "cell_type": "code",
   "execution_count": null,
   "metadata": {},
   "outputs": [],
   "source": [
    "for filepath, filename in zip(proj.filepaths, proj.filenames):\n",
    "\n",
    "    scale.current, scale.mask = scale.detect(filepath, show=True)    \n",
    "    \n",
    "    arena = pp.polygon_maker()\n",
    "    arena.draw(filepath, show=False, mode=\"box\")\n"
   ]
  },
  {
   "cell_type": "markdown",
   "metadata": {},
   "source": [
    "## object finder <a name=\"object-finder\"></a>"
   ]
  },
  {
   "cell_type": "code",
   "execution_count": null,
   "metadata": {},
   "outputs": [],
   "source": []
  }
 ],
 "metadata": {
  "kernelspec": {
   "display_name": "Python 3",
   "language": "python",
   "name": "python3"
  },
  "language_info": {
   "codemirror_mode": {
    "name": "ipython",
    "version": 3
   },
   "file_extension": ".py",
   "mimetype": "text/x-python",
   "name": "python",
   "nbconvert_exporter": "python",
   "pygments_lexer": "ipython3",
   "version": "3.7.1"
  }
 },
 "nbformat": 4,
 "nbformat_minor": 2
}
