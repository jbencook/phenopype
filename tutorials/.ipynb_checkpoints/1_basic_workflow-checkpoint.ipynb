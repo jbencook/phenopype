{
 "cells": [
  {
   "cell_type": "code",
   "execution_count": 20,
   "metadata": {},
   "outputs": [],
   "source": [
    "#%% DEV_startup\n",
    "\n",
    "import os\n",
    "import cv2\n",
    "\n",
    "os.chdir(\"E:\\\\python1\\\\phenopype\")\n",
    "\n",
    "import phenopype as pp\n",
    "import importlib\n",
    "importlib.reload(pp)\n",
    "pp.__file__\n",
    "\n",
    "\n",
    "self = type('test', (object,), {})()\n",
    "kwargs = dict()\n",
    "\n",
    "cv2.destroyAllWindows()"
   ]
  },
  {
   "cell_type": "markdown",
   "metadata": {},
   "source": [
    "# Example 2: basic functions and workflow\n",
    "\n",
    "This example demonstrates basic workflow with phenopype \n",
    "\n",
    "***\n",
    "**IMPORTANT NOTE** \n",
    "\n",
    "*phenopype* uses `opencv`'s high-gui functionality to show images and interact with them. This feature does not work in jupyter notebook, so I use `matplotlib` to show the some of the output. However, matplotlib reads the image-arrays differently (in red-green-blue order and not blue-green-red), hence I have to convert them with `COLOR_BGR2RGB`. Keep this in mind when you work with *phenopype*-output. \n",
    "***"
   ]
  },
  {
   "cell_type": "markdown",
   "metadata": {},
   "source": [
    "First we import the package (it will load all dependencies automatically)."
   ]
  },
  {
   "cell_type": "code",
   "execution_count": 1,
   "metadata": {},
   "outputs": [],
   "source": [
    "import phenopype as pp\n",
    "\n",
    "# matplotlib needed to show output in jupyter notebook\n",
    "from matplotlib import pyplot as plt"
   ]
  },
  {
   "cell_type": "markdown",
   "metadata": {},
   "source": [
    "We can look at all the functions and objects that exists in the package (i.e. the \"namespace\" using `dir`):"
   ]
  },
  {
   "cell_type": "code",
   "execution_count": 12,
   "metadata": {},
   "outputs": [
    {
     "data": {
      "text/plain": [
       "['Counter',\n",
       " '__all__',\n",
       " '__builtins__',\n",
       " '__cached__',\n",
       " '__doc__',\n",
       " '__file__',\n",
       " '__loader__',\n",
       " '__name__',\n",
       " '__package__',\n",
       " '__path__',\n",
       " '__spec__',\n",
       " '__version__',\n",
       " 'black',\n",
       " 'blue',\n",
       " 'blur',\n",
       " 'camera_stand_module',\n",
       " 'copy',\n",
       " 'cv2',\n",
       " 'datetime',\n",
       " 'exif_date',\n",
       " 'exifread',\n",
       " 'find_skeleton3',\n",
       " 'gray_scale',\n",
       " 'green',\n",
       " 'inspect',\n",
       " 'is_pkg',\n",
       " 'kims_module',\n",
       " 'loader',\n",
       " 'ma',\n",
       " 'math',\n",
       " 'module',\n",
       " 'name',\n",
       " 'np',\n",
       " 'object_finder',\n",
       " 'os',\n",
       " 'pd',\n",
       " 'pkgutil',\n",
       " 'polygon_maker',\n",
       " 'project',\n",
       " 'red',\n",
       " 'scale_maker',\n",
       " 'sys',\n",
       " 'utils',\n",
       " 'value',\n",
       " 'white']"
      ]
     },
     "execution_count": 12,
     "metadata": {},
     "output_type": "execute_result"
    }
   ],
   "source": [
    "dir(pp)"
   ]
  },
  {
   "cell_type": "markdown",
   "metadata": {},
   "source": [
    "We start out by creating a project object. As shown in the python_basics example, this is a two step process. First we create the object with `pp.project()`, and then, once created, we run one of the functions that are part of this module (`.project_maker()`), which we provide with a name for the project, a folder with images (string of the path), and a search string of which images to include. "
   ]
  },
  {
   "cell_type": "code",
   "execution_count": 14,
   "metadata": {},
   "outputs": [],
   "source": [
    "images = \"E:\\\\Python1\\\\phenopype\\\\examples\\\\images\"\n",
    "\n",
    "proj = pp.project()    \n",
    "proj.project_maker(project_name = \"example1\", image_dir = images, include=[\"multiple\"])"
   ]
  },
  {
   "cell_type": "markdown",
   "metadata": {},
   "source": [
    "The `proj` object can serve as a backbone where basic information regarding this project is embedded. We can show all these pieces of information by calling `dir()` on `proj`:  "
   ]
  },
  {
   "cell_type": "code",
   "execution_count": 3,
   "metadata": {},
   "outputs": [
    {
     "data": {
      "text/plain": [
       "['__class__',\n",
       " '__delattr__',\n",
       " '__dict__',\n",
       " '__dir__',\n",
       " '__doc__',\n",
       " '__eq__',\n",
       " '__format__',\n",
       " '__ge__',\n",
       " '__getattribute__',\n",
       " '__gt__',\n",
       " '__hash__',\n",
       " '__init__',\n",
       " '__init_subclass__',\n",
       " '__le__',\n",
       " '__lt__',\n",
       " '__module__',\n",
       " '__ne__',\n",
       " '__new__',\n",
       " '__reduce__',\n",
       " '__reduce_ex__',\n",
       " '__repr__',\n",
       " '__setattr__',\n",
       " '__sizeof__',\n",
       " '__str__',\n",
       " '__subclasshook__',\n",
       " '__weakref__',\n",
       " 'df',\n",
       " 'exclude',\n",
       " 'filenames',\n",
       " 'filepaths',\n",
       " 'filetypes',\n",
       " 'gray_scale_finder',\n",
       " 'in_dir',\n",
       " 'include',\n",
       " 'mode',\n",
       " 'name',\n",
       " 'project_maker',\n",
       " 'resize',\n",
       " 'save',\n",
       " 'save_dir',\n",
       " 'update_list']"
      ]
     },
     "execution_count": 3,
     "metadata": {},
     "output_type": "execute_result"
    }
   ],
   "source": [
    "dir(proj)"
   ]
  },
  {
   "cell_type": "markdown",
   "metadata": {},
   "source": [
    "This is a bit unorganized, in later version I will try to clean up the namespace more. We can, for example, check the directories we have specified in the beginning (where our images lie), the list of filepaths and names we have generated to check if they are correct:"
   ]
  },
  {
   "cell_type": "code",
   "execution_count": 16,
   "metadata": {},
   "outputs": [
    {
     "data": {
      "text/plain": [
       "'E:\\\\Python1\\\\phenopype\\\\examples\\\\images'"
      ]
     },
     "execution_count": 16,
     "metadata": {},
     "output_type": "execute_result"
    }
   ],
   "source": [
    "proj.in_dir"
   ]
  },
  {
   "cell_type": "code",
   "execution_count": 17,
   "metadata": {},
   "outputs": [
    {
     "data": {
      "text/plain": [
       "['multiple_objects_1.jpg', 'multiple_objects_2.jpg', 'multiple_objects_3.jpg']"
      ]
     },
     "execution_count": 17,
     "metadata": {},
     "output_type": "execute_result"
    }
   ],
   "source": [
    "proj.filenames"
   ]
  },
  {
   "cell_type": "code",
   "execution_count": 18,
   "metadata": {},
   "outputs": [
    {
     "data": {
      "text/plain": [
       "['E:\\\\Python1\\\\phenopype\\\\examples\\\\images\\\\multiple_objects_1.jpg',\n",
       " 'E:\\\\Python1\\\\phenopype\\\\examples\\\\images\\\\multiple_objects_2.jpg',\n",
       " 'E:\\\\Python1\\\\phenopype\\\\examples\\\\images\\\\multiple_objects_3.jpg']"
      ]
     },
     "execution_count": 18,
     "metadata": {},
     "output_type": "execute_result"
    }
   ],
   "source": [
    "proj.filepaths"
   ]
  },
  {
   "cell_type": "markdown",
   "metadata": {},
   "source": [
    "Since our images have areas that we probably don't want in our object detection routines (edge of the tray, dirt, etc...), we can mark that area to exclude it in later steps. We do this by drawing a polygon directly into the image (don't worry - the original image won't get overwritten).\n",
    "We take the first image from our file list, that we access by `proj.filepaths[0]`:"
   ]
  },
  {
   "cell_type": "code",
   "execution_count": 23,
   "metadata": {},
   "outputs": [
    {
     "name": "stdout",
     "output_type": "stream",
     "text": [
      "\n",
      "Mark the outline of your arena, i.e. what you want to include in the image analysis by left clicking, finish with enter.\n"
     ]
    }
   ],
   "source": [
    "arena = pp.polygon_maker()\n",
    "arena.draw(proj.filepaths[0], show=True)"
   ]
  },
  {
   "cell_type": "code",
   "execution_count": null,
   "metadata": {},
   "outputs": [],
   "source": []
  },
  {
   "cell_type": "code",
   "execution_count": null,
   "metadata": {},
   "outputs": [],
   "source": []
  }
 ],
 "metadata": {
  "kernelspec": {
   "display_name": "Python 3",
   "language": "python",
   "name": "python3"
  },
  "language_info": {
   "codemirror_mode": {
    "name": "ipython",
    "version": 3
   },
   "file_extension": ".py",
   "mimetype": "text/x-python",
   "name": "python",
   "nbconvert_exporter": "python",
   "pygments_lexer": "ipython3",
   "version": "3.7.1"
  }
 },
 "nbformat": 4,
 "nbformat_minor": 2
}
