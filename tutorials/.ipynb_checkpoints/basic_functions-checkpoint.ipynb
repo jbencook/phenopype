{
 "cells": [
  {
   "cell_type": "markdown",
   "metadata": {},
   "source": [
    "# Example 2: basic functions and workflow\n",
    "\n",
    "This example demonstrates basic workflow with phenopype \n",
    "\n",
    "***\n",
    "**IMPORTANT NOTE** \n",
    "\n",
    "*phenopype* uses `opencv`'s high-gui functionality to show images and interact with them. This feature does not work in jupyter notebook, so I use `matplotlib` to show the some of the output. However, matplotlib reads the image-arrays differently (in red-green-blue order and not blue-green-red), hence I have to convert them with `COLOR_BGR2RGB`. Keep this in mind when you work with *phenopype*-output. \n",
    "***"
   ]
  },
  {
   "cell_type": "code",
   "execution_count": null,
   "metadata": {},
   "outputs": [],
   "source": []
  },
  {
   "cell_type": "markdown",
   "metadata": {},
   "source": [
    "We don't want the scale to be detected as an object (which it certainly would be). So, we use the inverted cropping mask (shown in green and red above) to create a binary mask that indicates what area to exclude in the image analysis. `scale.grab` does that for you, you can call the result with `scale.mask`:"
   ]
  },
  {
   "cell_type": "code",
   "execution_count": 2,
   "metadata": {},
   "outputs": [
    {
     "ename": "NameError",
     "evalue": "name 'plt' is not defined",
     "output_type": "error",
     "traceback": [
      "\u001b[1;31m---------------------------------------------------------------------------\u001b[0m",
      "\u001b[1;31mNameError\u001b[0m                                 Traceback (most recent call last)",
      "\u001b[1;32m<ipython-input-2-5ba752b090f2>\u001b[0m in \u001b[0;36m<module>\u001b[1;34m\u001b[0m\n\u001b[1;32m----> 1\u001b[1;33m \u001b[0mplt\u001b[0m\u001b[1;33m.\u001b[0m\u001b[0mimshow\u001b[0m\u001b[1;33m(\u001b[0m\u001b[0mscale\u001b[0m\u001b[1;33m.\u001b[0m\u001b[0mmask\u001b[0m\u001b[1;33m,\u001b[0m \u001b[0mcmap\u001b[0m\u001b[1;33m=\u001b[0m\u001b[1;34m'gray'\u001b[0m\u001b[1;33m)\u001b[0m\u001b[1;33m\u001b[0m\u001b[1;33m\u001b[0m\u001b[0m\n\u001b[0m",
      "\u001b[1;31mNameError\u001b[0m: name 'plt' is not defined"
     ]
    }
   ],
   "source": [
    "plt.imshow(scale.mask, cmap='gray')"
   ]
  },
  {
   "cell_type": "markdown",
   "metadata": {},
   "source": [
    "Now we have grabbed the scale - phenopype knows how much a pixel is in mm, and it knows what the scale looks like. To look at the cropped picture of the scale we will use as template, include the `show=True` argument in `scale.grab`. You can look at the it again by calling `scale.image_zoomed`. Here we look at the image where we took the scale from, and the cropped scale image itself."
   ]
  }
 ],
 "metadata": {
  "kernelspec": {
   "display_name": "Python 3",
   "language": "python",
   "name": "python3"
  },
  "language_info": {
   "codemirror_mode": {
    "name": "ipython",
    "version": 3
   },
   "file_extension": ".py",
   "mimetype": "text/x-python",
   "name": "python",
   "nbconvert_exporter": "python",
   "pygments_lexer": "ipython3",
   "version": "3.7.1"
  }
 },
 "nbformat": 4,
 "nbformat_minor": 2
}
