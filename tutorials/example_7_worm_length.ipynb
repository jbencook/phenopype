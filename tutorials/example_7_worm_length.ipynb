{
 "cells": [
  {
   "cell_type": "markdown",
   "metadata": {},
   "source": [
    "# Example 7: Measuring worm length\n",
    "\n",
    "Body length is a commonly measured trait. However, live animals are typically not well behaved in front of camera: typically the body is not aligned straight, which makes length measure difficult and sometimes time consuming. Some computer vision can help here, such as skeletonization (https://en.wikipedia.org/wiki/Topological_skeleton) for an acurate semi automatic approach, and polyline drawing for a less acurate, manual aproach.\n",
    "\n",
    "Here I demonstrate how to automatically measure the length of california blackworms (*Lumbriculus variegatus*) in 6 well plates by dragging a mask around them. A future implementation will like include a variant of [Hough transformation](https://en.wikipedia.org/wiki/Hough_transform) to automatically detect the circles of the wellplates for a full automatic workflow. \n",
    "\n",
    "**Note:** For details on the differen workflows (prototyping-, low throughput- and high throughout) see [Tutorial 2](tutorial_2_phenopype_workflow.ipynb). Not all examples include the prototyping workflow."
   ]
  },
  {
   "cell_type": "markdown",
   "metadata": {},
   "source": [
    "<div class=\"row; text-align: left\">\n",
    "    \n",
    "<div class=\"col-md-6\">\n",
    "    \n",
    "![Before](_assets/ex7_before.jpg)\n",
    "    \n",
    "**Input** - Worms placed in 6 well plates\n",
    "</div>\n",
    "<div class=\"col-md-6\">\n",
    "\n",
    "![After](_assets/ex7_after.jpg)\n",
    "    \n",
    "**Results** - extracted body contour (green area) and body length (red line) as a topological skeleton\n",
    "</div>\n",
    "</div>\n"
   ]
  },
  {
   "cell_type": "markdown",
   "metadata": {},
   "source": [
    "## Low throughput\n",
    "\n",
    "First we load the image as a container. If you have saved data before with a specific `save_suffix` (recommended for reproducibility and to not overwrite files) you can reload it if you have provided it at the point of container creation in `load_image`:"
   ]
  },
  {
   "cell_type": "code",
   "execution_count": 11,
   "metadata": {},
   "outputs": [],
   "source": [
    "import phenopype as pp\n",
    "\n",
    "image_path = r\"./images/worms.jpg\"\n",
    "custom_save_path = r\"../_temp/output\"\n",
    "ct = pp.load_image(image_path, # path to image\n",
    "                   cont=True,  # create a phenopype container\n",
    "                   save_suffix=\"worms1\",      # indicate a suffix for save- and loading operations\n",
    "                   dirpath=custom_save_path)  # supply an (existing) directory where files get stored and loaded from"
   ]
  },
  {
   "cell_type": "code",
   "execution_count": 12,
   "metadata": {},
   "outputs": [
    {
     "name": "stdout",
     "output_type": "stream",
     "text": [
      "AUTOLOAD\n",
      "- drawing loaded from attributes.yaml\n",
      "- polylines_worms1.csv\n",
      "- masks_worms1.csv\n"
     ]
    }
   ],
   "source": [
    "ct.load() # to reload any saved masks or polylines"
   ]
  },
  {
   "cell_type": "code",
   "execution_count": 13,
   "metadata": {},
   "outputs": [
    {
     "name": "stdout",
     "output_type": "stream",
     "text": [
      "- mask with label mask1 already created (overwrite=False)\n",
      "- include mask \"mask1\" pixels\n",
      "- include mask \"mask1\" pixels\n",
      "- include mask \"mask1\" pixels\n",
      "- include mask \"mask1\" pixels\n",
      "- include mask \"mask1\" pixels\n",
      "- include mask \"mask1\" pixels\n",
      " - show mask: mask1.\n",
      " - show mask: mask1.\n",
      " - show mask: mask1.\n",
      " - show mask: mask1.\n",
      " - show mask: mask1.\n",
      " - show mask: mask1.\n",
      "- masks saved under ../_temp/output\\masks_worms1.csv (overwritten).\n",
      "- contours saved under ../_temp/output\\contours_worms1.csv (overwritten).\n",
      "- canvas saved under ../_temp/output\\canvas_worms1.jpg (overwritten).\n"
     ]
    }
   ],
   "source": [
    "ct.reset() # reset canvas and images, if you run repeatedly\n",
    "pp.preprocessing.create_mask(ct) # finding circles can be potentially automatized in the future using hough transform\n",
    "pp.segmentation.threshold(ct, method=\"adaptive\", blocksize=49, constant=5)\n",
    "pp.segmentation.find_contours(ct, min_diameter=50)\n",
    "## pp.segmentation(draw) # uncomment this if you need to manually separate worms from the well-border\n",
    "## pp.visualization.polylines(ct) # uncomment this if you need to manually measure a worm\n",
    "pp.measurement.skeletonize(ct) # this will measure the longest distance in a curvy object\n",
    "pp.visualization.draw_contours(ct) # this draws both the contour (green) and the skeleton\n",
    "pp.visualization.draw_masks(ct) # will be skipped if loaded before\n",
    "pp.export.save_masks(ct, dirpath=custom_save_path) # \n",
    "pp.export.save_contours(ct, dirpath=custom_save_path)\n",
    "pp.export.save_canvas(ct, dirpath=custom_save_path, resize=1) # resize=1 to have the original sized picture"
   ]
  },
  {
   "cell_type": "code",
   "execution_count": 14,
   "metadata": {},
   "outputs": [],
   "source": [
    "pp.show_image(ct.canvas)"
   ]
  },
  {
   "cell_type": "markdown",
   "metadata": {},
   "source": [
    "Should a worm superimpose itself it is not possible for the skeletonization algorithm to follow the shape through from beginning to end (e.g. in worm 3 in this example). In that case one has to manually draw a line along the worm using the `polylines` tool. "
   ]
  },
  {
   "cell_type": "code",
   "execution_count": 16,
   "metadata": {},
   "outputs": [
    {
     "name": "stdout",
     "output_type": "stream",
     "text": [
      "- polylines already drawn (overwrite=False)\n",
      "- polylines saved under ../_temp/output\\polylines_worms1.csv (overwritten).\n"
     ]
    }
   ],
   "source": [
    "pp.measurement.polylines(ct)\n",
    "pp.visualization.draw_polylines(ct)\n",
    "pp.export.save_polylines(ct)"
   ]
  },
  {
   "cell_type": "code",
   "execution_count": 17,
   "metadata": {},
   "outputs": [],
   "source": [
    "pp.show_image(ct.canvas)"
   ]
  },
  {
   "cell_type": "markdown",
   "metadata": {},
   "source": [
    "Alternatively to the `polylines` tool, one can also use the drawing tool if you just need to separte an endpoint or if the worm touches the border. This should be done on the binary image, *before* the contour are detected. "
   ]
  },
  {
   "cell_type": "markdown",
   "metadata": {},
   "source": [
    "## High throughput"
   ]
  },
  {
   "cell_type": "markdown",
   "metadata": {},
   "source": [
    "As for the other examples I have created a preset (`ex7`) with appropriate settings for the example. The template can be passed to the `pype` using `config_preset=\"ex7\"` - see below. "
   ]
  },
  {
   "cell_type": "code",
   "execution_count": 18,
   "metadata": {},
   "outputs": [
    {
     "name": "stdout",
     "output_type": "stream",
     "text": [
      "\n",
      "preprocessing:\n",
      "- create_mask\n",
      "segmentation:\n",
      "- threshold:\n",
      "    method: adaptive\n",
      "    blocksize: 49      ## for adaptive \n",
      "    constant: 5        ## for adaptive \n",
      "- find_contours:\n",
      "    retrieval: ccomp\n",
      "    min_diameter: 50\n",
      "    min_area: 0\n",
      "measurement:\n",
      "- skeletonize\n",
      "visualization:\n",
      "- select_canvas:\n",
      "    canvas: image\n",
      "- draw_contours:\n",
      "    line_width: 2\n",
      "    label_width: 1\n",
      "    label_size: 1\n",
      "    fill: 0.3\n",
      "export:\n",
      "- save_contours:\n",
      "    overwrite: true\n",
      "\n"
     ]
    }
   ],
   "source": [
    "import phenopype as pp\n",
    "\n",
    "image_path = r\"./images/worms.jpg\"\n",
    "\n",
    "print(pp.presets.ex7)"
   ]
  },
  {
   "cell_type": "code",
   "execution_count": 23,
   "metadata": {},
   "outputs": [
    {
     "name": "stdout",
     "output_type": "stream",
     "text": [
      "../_temp/output\\pype_config_worms2.yaml\n",
      "\n",
      "\n",
      "------------+++ new pype iteration 2020:04:19 15:45:35 +++--------------\n",
      "\n",
      "\n",
      "AUTOLOAD\n",
      "- drawing loaded from attributes.yaml\n",
      "- masks_worms2.csv\n",
      "PREPROCESSING\n",
      "create_mask\n",
      "- mask with label mask1 already created (overwrite=False)\n",
      "SEGMENTATION\n",
      "threshold\n",
      "- include mask \"mask1\" pixels\n",
      "- include mask \"mask1\" pixels\n",
      "- include mask \"mask1\" pixels\n",
      "- include mask \"mask1\" pixels\n",
      "- include mask \"mask1\" pixels\n",
      "- include mask \"mask1\" pixels\n",
      "draw\n",
      "- polylines already drawn (overwrite=False)\n",
      "find_contours\n",
      "MEASUREMENT\n",
      "skeletonize\n",
      "VISUALIZATION\n",
      "select_canvas\n",
      "- invalid selection - defaulting to raw image\n",
      "draw_contours\n",
      "EXPORT\n",
      "save_contours\n",
      "- contours saved under ../_temp/output\\contours_worms2.csv (overwritten).\n",
      "save_canvas\n",
      "- canvas saved under ../_temp/output\\canvas_worms2.jpg (overwritten).\n",
      "AUTOSAVE\n",
      "save_masks\n",
      "- masks not saved - file already exists (overwrite=False).\n",
      "save_drawing\n",
      "- drawing saved (overwriting)\n",
      "\n",
      "\n",
      "TERMINATE\n"
     ]
    },
    {
     "data": {
      "text/plain": [
       "<phenopype.main.pype at 0x266993dde88>"
      ]
     },
     "execution_count": 23,
     "metadata": {},
     "output_type": "execute_result"
    }
   ],
   "source": [
    "pp.pype(image_path, name=\"worms2\", dirpath=r\"../_temp/output\", config_preset=\"ex7\")"
   ]
  },
  {
   "cell_type": "code",
   "execution_count": null,
   "metadata": {},
   "outputs": [],
   "source": []
  }
 ],
 "metadata": {
  "kernelspec": {
   "display_name": "Python 3",
   "language": "python",
   "name": "python3"
  },
  "language_info": {
   "codemirror_mode": {
    "name": "ipython",
    "version": 3
   },
   "file_extension": ".py",
   "mimetype": "text/x-python",
   "name": "python",
   "nbconvert_exporter": "python",
   "pygments_lexer": "ipython3",
   "version": "3.7.5"
  }
 },
 "nbformat": 4,
 "nbformat_minor": 4
}
