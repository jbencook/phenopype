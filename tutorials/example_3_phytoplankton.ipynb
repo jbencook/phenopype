{
 "cells": [
  {
   "cell_type": "markdown",
   "metadata": {},
   "source": [
    "# Example 3: Fluorescence intensity and shape of phytoplankton cells\n",
    "\n",
    "Images kindly provided by Irene Gallego and Anita Narwani.\n",
    "\n",
    "In this example we are trying to i) detect phytoplankton cells in 1-channel images (black and white images), ii) measure their pixel-intensities (=fluorescence intensities) and their their shape, and iii) work towards building a classifier for taxonomic groups of phytoplankton. The first two objectives are a rather low hanging fruit, as they involve classic computer vision approaches that phenopype can readily supply. The latter goal is more longterm and involves experimenting with classic shape feature detection (e.g. [image moments](https://docs.opencv.org/3.4/d8/d23/classcv_1_1Moments.html)), and potentially also building up towards a deep learning pipeline usign the contours detecting with phenopype. I will update this example as work progresses.  "
   ]
  },
  {
   "cell_type": "code",
   "execution_count": 1,
   "metadata": {},
   "outputs": [],
   "source": [
    "import phenopype as pp\n",
    "\n",
    "image_path = \"images/phytoplankton.jpg\" \n",
    "\n"
   ]
  },
  {
   "cell_type": "code",
   "execution_count": 4,
   "metadata": {},
   "outputs": [
    {
     "name": "stdout",
     "output_type": "stream",
     "text": [
      "dirpath defaulted to file directory - E:\\git_repos\\phenopype\\tutorials\\images\n",
      "Directory to save files set at - E:\\git_repos\\phenopype\\tutorials\\images\n",
      "Save folder _temp/output/ex3 does not exist - create?.y\n",
      "Did not find \"pype_config_v1.yaml\" -  create at following location? (y/n):\n",
      "_temp/output/ex3\\pype_config_v1.yaml\n",
      "y\n",
      "pype config generated from preset1.\n",
      "Created and saved new pype config \"pype_config_v1.yaml\" in folder _temp/output/ex3\n",
      "_temp/output/ex3\\pype_config_v1.yaml\n",
      "\n",
      "\n",
      "------------+++ new pype iteration 2020:05:11 12:05:37 +++--------------\n",
      "\n",
      "\n",
      "Nothing loaded.\n",
      "SEGMENTATION\n",
      "threshold\n",
      "find_contours\n",
      "VISUALIZATION\n",
      "select_canvas\n",
      "- invalid selection - defaulting to raw image\n",
      "draw_contours\n",
      "EXPORT\n",
      "save_contours\n",
      "- contours saved under _temp/output/ex3\\contours_v1.csv.\n",
      "AUTOSAVE\n",
      "save_canvas\n",
      "- canvas saved under _temp/output/ex3\\canvas_v1.jpg.\n",
      "\n",
      "\n",
      "------------+++ new pype iteration 2020:05:11 12:06:50 +++--------------\n",
      "\n",
      "\n",
      "Nothing loaded.\n",
      "PREPROCESSING\n",
      "invert_image\n",
      "SEGMENTATION\n",
      "threshold\n",
      "find_contours\n",
      "VISUALIZATION\n",
      "select_canvas\n",
      "- invalid selection - defaulting to raw image\n",
      "draw_contours\n",
      "EXPORT\n",
      "save_contours\n",
      "- contours saved under _temp/output/ex3\\contours_v1.csv (overwritten).\n",
      "AUTOSAVE\n",
      "save_canvas\n",
      "- canvas saved under _temp/output/ex3\\canvas_v1.jpg (overwritten).\n"
     ]
    },
    {
     "ename": "SystemExit",
     "evalue": "\n\nTERMINATE (by user)",
     "output_type": "error",
     "traceback": [
      "An exception has occurred, use %tb to see the full traceback.\n",
      "\u001b[1;31mSystemExit\u001b[0m\u001b[1;31m:\u001b[0m \n\nTERMINATE (by user)\n"
     ]
    },
    {
     "name": "stderr",
     "output_type": "stream",
     "text": [
      "WARNING: To exit: use 'exit', 'quit', or Ctrl-D.\n"
     ]
    }
   ],
   "source": [
    "pp.pype(image_path, name=\"v1\", preset=\"object_detection_morph\", dirpath=\"_temp/output/ex3\")"
   ]
  },
  {
   "cell_type": "code",
   "execution_count": null,
   "metadata": {},
   "outputs": [],
   "source": []
  }
 ],
 "metadata": {
  "kernelspec": {
   "display_name": "Python 3",
   "language": "python",
   "name": "python3"
  },
  "language_info": {
   "codemirror_mode": {
    "name": "ipython",
    "version": 3
   },
   "file_extension": ".py",
   "mimetype": "text/x-python",
   "name": "python",
   "nbconvert_exporter": "python",
   "pygments_lexer": "ipython3",
   "version": "3.7.5"
  }
 },
 "nbformat": 4,
 "nbformat_minor": 4
}
