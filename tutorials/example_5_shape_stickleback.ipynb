{
 "cells": [
  {
   "cell_type": "markdown",
   "metadata": {},
   "source": [
    "# Example 5: Stickleback morphometrics - body and armor-plate shape\n",
    "\n",
    "Variation in continuous phenotypic traits like shape or area of certain structures are difficult to quantify with landmarks, because they are too complex or have no underlying assumption of homology. In this example, the number and area of armor plating was measured as a continuous trait in a two-step process: first, a mask was set around the posterior region that contains the plates, second, the red channel (highest signal-to-noise-ratio) of the image was thresholded. "
   ]
  },
  {
   "cell_type": "code",
   "execution_count": null,
   "metadata": {},
   "outputs": [],
   "source": []
  },
  {
   "cell_type": "code",
   "execution_count": null,
   "metadata": {},
   "outputs": [],
   "source": []
  },
  {
   "cell_type": "markdown",
   "metadata": {},
   "source": [
    "## High throughput workflow\n",
    "\n",
    "First we need to create a project, as described in [Tutorial 3](tutorial_3_managing_projects_1.ipynb) and [Tutorial 4](tutorial_4_managing_projects_2.ipynb). This will create a folder structure and allows for easy creation of the `pype`-configuration files needed for high throughput. "
   ]
  },
  {
   "cell_type": "code",
   "execution_count": 2,
   "metadata": {},
   "outputs": [],
   "source": [
    "import phenopype as pp"
   ]
  },
  {
   "cell_type": "code",
   "execution_count": 1,
   "metadata": {},
   "outputs": [],
   "source": [
    "## relative from now (phenopype-master/tutorials)\n",
    "project_root = r\"../_temp/output/ex5_project\"\n",
    "image_dir = \"images\""
   ]
  },
  {
   "cell_type": "code",
   "execution_count": 3,
   "metadata": {},
   "outputs": [
    {
     "name": "stdout",
     "output_type": "stream",
     "text": [
      "--------------------------------------------\n",
      "Phenopype will create a new project at\n",
      "E:\\git_repos\\phenopype\\_temp\\output\\ex5_project\n",
      "\n",
      "Proceed? (y/n)\n",
      "y\n",
      "Warning - project root_dir already exists - overwrite? (y/n)y\n",
      "\n",
      "\"E:\\git_repos\\phenopype\\_temp\\output\\ex5_project\" created (overwritten)\n",
      "\n",
      "project attributes written to E:\\git_repos\\phenopype\\_temp\\output\\ex5_project\\attributes.yaml\n",
      "--------------------------------------------\n"
     ]
    }
   ],
   "source": [
    "ex5 = pp.project(root_dir=project_root)"
   ]
  },
  {
   "cell_type": "markdown",
   "metadata": {},
   "source": [
    "First we add the image files in the directory, but only \"stickle1\", \"stickle2\", and \"stickle3\". Then we add the appropriate configuration file. As for the other examples I have created a preset (\"ex5\") with appropriate settings, which is passed to the pype using `config_preset=\"ex5\"`."
   ]
  },
  {
   "cell_type": "code",
   "execution_count": 4,
   "metadata": {},
   "outputs": [
    {
     "name": "stdout",
     "output_type": "stream",
     "text": [
      "--------------------------------------------\n",
      "phenopype will search for files at\n",
      "\n",
      "E:\\git_repos\\phenopype\\tutorials\\images\n",
      "\n",
      "using the following settings:\n",
      "\n",
      "filetypes: ['jpg', 'JPG', 'jpeg', 'JPEG', 'tif', 'png'], include: stickle, exclude: ['side', 'top'], raw_mode: copy, search_mode: dir, unique_mode: path\n",
      "\n",
      "Found image stickle1.JPG - phenopype-project folder 0__stickle1 created\n",
      "dirpath defaulted to file directory - E:\\git_repos\\phenopype\\tutorials\\images\n",
      "Directory to save files set at - E:\\git_repos\\phenopype\\tutorials\\images\n",
      "no meta-data found\n",
      "Found image stickle2.JPG - phenopype-project folder 0__stickle2 created\n",
      "dirpath defaulted to file directory - E:\\git_repos\\phenopype\\tutorials\\images\n",
      "Directory to save files set at - E:\\git_repos\\phenopype\\tutorials\\images\n",
      "no meta-data found\n",
      "Found image stickle3.JPG - phenopype-project folder 0__stickle3 created\n",
      "dirpath defaulted to file directory - E:\\git_repos\\phenopype\\tutorials\\images\n",
      "Directory to save files set at - E:\\git_repos\\phenopype\\tutorials\\images\n",
      "no meta-data found\n",
      "\n",
      "Found 3 files\n",
      "--------------------------------------------\n"
     ]
    }
   ],
   "source": [
    "ex5.add_files(image_dir=image_dir, include=\"stickle\", exclude=[\"side\",\"top\"])"
   ]
  },
  {
   "cell_type": "code",
   "execution_count": 5,
   "metadata": {},
   "outputs": [
    {
     "name": "stdout",
     "output_type": "stream",
     "text": [
      "No preset provided - defaulting to preset preset1\n",
      "dirpath defaulted to file directory - E:\\git_repos\\phenopype\\_temp\\output\\ex5_project\n",
      "Directory to save files set at - E:\\git_repos\\phenopype\\_temp\\output\\ex5_project\n",
      "E:\\git_repos\\phenopype\\_temp\\output\\ex5_project\\pype_config_template-v1.yaml\n",
      "\n",
      "\n",
      "------------+++ new pype iteration 2020:05:17 14:09:37 +++--------------\n",
      "\n",
      "\n",
      "SEGMENTATION\n",
      "threshold\n",
      "find_contours\n",
      "VISUALIZATION\n",
      "select_canvas\n",
      "- invalid selection - defaulting to raw image\n",
      "draw_contours\n",
      "\n",
      "\n",
      "------------+++ new pype iteration 2020:05:17 14:09:44 +++--------------\n",
      "\n",
      "\n",
      "PREPROCESSING\n",
      "create_mask\n",
      "- create mask\n",
      "SEGMENTATION\n",
      "blur\n",
      "threshold\n",
      "- include mask \"mask1\" pixels\n",
      "morphology\n",
      "watershed\n",
      "find_contours\n",
      "VISUALIZATION\n",
      "select_canvas\n",
      "- binary image\n",
      "draw_contours\n",
      "\n",
      "\n",
      "------------+++ new pype iteration 2020:05:17 14:10:04 +++--------------\n",
      "\n",
      "\n",
      "PREPROCESSING\n",
      "create_mask\n",
      "- mask with label mask1 already created (overwrite=False)\n",
      "SEGMENTATION\n",
      "blur\n",
      "threshold\n",
      "- include mask \"mask1\" pixels\n",
      "morphology\n",
      "watershed\n",
      "find_contours\n",
      "VISUALIZATION\n",
      "select_canvas\n",
      "- binary image\n",
      "draw_contours\n",
      "\n",
      "\n",
      "------------+++ new pype iteration 2020:05:17 14:10:14 +++--------------\n",
      "\n",
      "\n",
      "PREPROCESSING\n",
      "create_mask\n",
      "- mask with label mask1 already created (overwrite=False)\n",
      "SEGMENTATION\n",
      "blur\n",
      "threshold\n",
      "- include mask \"mask1\" pixels\n",
      "morphology\n",
      "watershed\n",
      "find_contours\n",
      "VISUALIZATION\n",
      "select_canvas\n",
      "- binary image\n",
      "draw_contours\n",
      "\n",
      "\n",
      "------------+++ new pype iteration 2020:05:17 14:10:30 +++--------------\n",
      "\n",
      "\n",
      "PREPROCESSING\n",
      "create_mask\n",
      "- mask with label mask1 already created (overwrite=False)\n",
      "SEGMENTATION\n",
      "blur\n",
      "threshold\n",
      "- include mask \"mask1\" pixels\n",
      "morphology\n",
      "watershed\n",
      "find_contours\n",
      "VISUALIZATION\n",
      "select_canvas\n",
      "- binary image\n",
      "draw_contours\n"
     ]
    },
    {
     "ename": "SystemExit",
     "evalue": "\n\nTERMINATE (by user)",
     "output_type": "error",
     "traceback": [
      "An exception has occurred, use %tb to see the full traceback.\n",
      "\u001b[1;31mSystemExit\u001b[0m\u001b[1;31m:\u001b[0m \n\nTERMINATE (by user)\n"
     ]
    },
    {
     "name": "stderr",
     "output_type": "stream",
     "text": [
      "WARNING: To exit: use 'exit', 'quit', or Ctrl-D.\n"
     ]
    }
   ],
   "source": [
    "ex5.add_config(name = \"v1\", interactive=True)\n"
   ]
  },
  {
   "cell_type": "code",
   "execution_count": null,
   "metadata": {},
   "outputs": [],
   "source": []
  }
 ],
 "metadata": {
  "kernelspec": {
   "display_name": "Python 3",
   "language": "python",
   "name": "python3"
  },
  "language_info": {
   "codemirror_mode": {
    "name": "ipython",
    "version": 3
   },
   "file_extension": ".py",
   "mimetype": "text/x-python",
   "name": "python",
   "nbconvert_exporter": "python",
   "pygments_lexer": "ipython3",
   "version": "3.7.7"
  }
 },
 "nbformat": 4,
 "nbformat_minor": 4
}
