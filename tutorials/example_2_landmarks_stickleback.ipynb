{
 "cells": [
  {
   "cell_type": "markdown",
   "metadata": {},
   "source": [
    "# Example 2: Stickleback morphometrics - landmarks\n",
    "\n",
    "Functional morphology of organisms is often measured by placing landmarks at specific points that show structural, functional or developmental significance. In this example phenopype is used to place morphometric landmarks across the anterior half of a stickleback (*Gasterosteus aculeatus*) stained with alizarin red.\n",
    "\n",
    "First we place landmarks in low throughput mode to learn how the landmark-function works, then we look at a high throughput landkmark example with a project directory and a global scale. "
   ]
  },
  {
   "cell_type": "markdown",
   "metadata": {},
   "source": [
    "<div class=\"row; text-align: left\">\n",
    "    \n",
    "<div class=\"col-md-6\">\n",
    "    \n",
    "![Before](_assets/ex2_before.jpg)\n",
    "    \n",
    "**Input** - Stained threespine stickleback, photographed in a glycerol bath from a camera stand\n",
    "</div>\n",
    "<div class=\"col-md-6\">\n",
    "\n",
    "![After](_assets/ex2_after.jpg)\n",
    "    \n",
    "**Results** - 22 landmarks are placed using the `landmark` tool from the `phenopype.measurements` module\n",
    "</div>\n",
    "</div>\n"
   ]
  },
  {
   "cell_type": "markdown",
   "metadata": {},
   "source": [
    "## Low throughput"
   ]
  },
  {
   "cell_type": "code",
   "execution_count": 1,
   "metadata": {},
   "outputs": [],
   "source": [
    "import phenopype as pp\n",
    "\n",
    "filepath = r\"images/stickle1.jpg\"\n",
    "\n",
    "ct = pp.load_image(filepath, cont=True) ## load image as container"
   ]
  },
  {
   "cell_type": "code",
   "execution_count": 2,
   "metadata": {},
   "outputs": [
    {
     "name": "stdout",
     "output_type": "stream",
     "text": [
      "- setting landmarks\n"
     ]
    }
   ],
   "source": [
    "## just place a few test-landmarks\n",
    "\n",
    "pp.measurement.landmarks(ct, point_size=15, point_colour=\"green\", label_size=1, overwrite=True) \n",
    "\n",
    "## sets landmarks. the landmarks get stored inside the container. if you have already placed landmarks\n",
    "## to the same container and set \"overwrite=False\", you wont be able to place them again until you set\n",
    "## the overwrite flag to \"True\""
   ]
  },
  {
   "cell_type": "markdown",
   "metadata": {},
   "source": [
    "To create an image with the selected points, we first need te select the background image (or \"canvas\") with `select_canvas` and then call the `draw_landmarks` function. These explicit steps are necessary when using the low throughput, but not the high throughput routine (see [Tutorial 2](tutorial_2_phenopype_workflow.ipynb)); likewise the `save_landmarks` function."
   ]
  },
  {
   "cell_type": "code",
   "execution_count": 3,
   "metadata": {},
   "outputs": [
    {
     "name": "stdout",
     "output_type": "stream",
     "text": [
      "- raw image\n"
     ]
    },
    {
     "data": {
      "text/html": [
       "<div>\n",
       "<style scoped>\n",
       "    .dataframe tbody tr th:only-of-type {\n",
       "        vertical-align: middle;\n",
       "    }\n",
       "\n",
       "    .dataframe tbody tr th {\n",
       "        vertical-align: top;\n",
       "    }\n",
       "\n",
       "    .dataframe thead th {\n",
       "        text-align: right;\n",
       "    }\n",
       "</style>\n",
       "<table border=\"1\" class=\"dataframe\">\n",
       "  <thead>\n",
       "    <tr style=\"text-align: right;\">\n",
       "      <th></th>\n",
       "      <th>filename</th>\n",
       "      <th>width</th>\n",
       "      <th>height</th>\n",
       "      <th>size_ratio_original</th>\n",
       "      <th>landmark</th>\n",
       "      <th>x</th>\n",
       "      <th>y</th>\n",
       "    </tr>\n",
       "  </thead>\n",
       "  <tbody>\n",
       "    <tr>\n",
       "      <th>0</th>\n",
       "      <td>stickle1.jpg</td>\n",
       "      <td>2400</td>\n",
       "      <td>1600</td>\n",
       "      <td>1</td>\n",
       "      <td>1</td>\n",
       "      <td>739</td>\n",
       "      <td>355</td>\n",
       "    </tr>\n",
       "    <tr>\n",
       "      <th>1</th>\n",
       "      <td>stickle1.jpg</td>\n",
       "      <td>2400</td>\n",
       "      <td>1600</td>\n",
       "      <td>1</td>\n",
       "      <td>2</td>\n",
       "      <td>1320</td>\n",
       "      <td>259</td>\n",
       "    </tr>\n",
       "    <tr>\n",
       "      <th>2</th>\n",
       "      <td>stickle1.jpg</td>\n",
       "      <td>2400</td>\n",
       "      <td>1600</td>\n",
       "      <td>1</td>\n",
       "      <td>3</td>\n",
       "      <td>1368</td>\n",
       "      <td>353</td>\n",
       "    </tr>\n",
       "  </tbody>\n",
       "</table>\n",
       "</div>"
      ],
      "text/plain": [
       "       filename  width  height  size_ratio_original  landmark     x    y\n",
       "0  stickle1.jpg   2400    1600                    1         1   739  355\n",
       "1  stickle1.jpg   2400    1600                    1         2  1320  259\n",
       "2  stickle1.jpg   2400    1600                    1         3  1368  353"
      ]
     },
     "execution_count": 3,
     "metadata": {},
     "output_type": "execute_result"
    }
   ],
   "source": [
    "pp.visualization.select_canvas(ct, canvas=\"raw\")\n",
    "pp.visualization.draw_landmarks(ct, point_size=15, point_colour=\"green\", label_size=1) \n",
    "pp.show_image(ct.canvas)\n",
    "ct.df_landmarks"
   ]
  },
  {
   "cell_type": "code",
   "execution_count": 4,
   "metadata": {},
   "outputs": [
    {
     "name": "stdout",
     "output_type": "stream",
     "text": [
      "- landmarks saved under ../_temp/output\\landmarks.csv (overwritten).\n",
      "- canvas saved under ../_temp/output\\canvas.jpg (overwritten).\n"
     ]
    }
   ],
   "source": [
    "## draw landmarks on canvas. appearance needs to be specified here too\n",
    "pp.export.save_landmarks(ct, dirpath=r\"../_temp/output\") ## save landmarks as csv to folder\n",
    "pp.export.save_canvas(ct, dirpath=r\"../_temp/output\") ## also save canvas for quality control "
   ]
  },
  {
   "cell_type": "markdown",
   "metadata": {},
   "source": [
    "###  Adding a scale\n",
    "\n",
    "Now we will do the same thing again, but this time we use a reference image to create a scale-template so we can adjust our landmark coordinate space. This is important if for example the distance between the camera and your sample changes.  \n",
    "\n",
    "<center>\n",
    "<div style=\"width:500px; text-align: left\">\n",
    "    \n",
    "![Adding a scale](_assets/ex2_scale.gif)\n",
    "    \n",
    "</div>\n",
    "</center>"
   ]
  },
  {
   "cell_type": "markdown",
   "metadata": {},
   "source": [
    "After loading the reference image, we measure the distance on the millimeter scale (click on two points inside the image), enter the distance (e.g. 10 mm), and then we create a template by dragging a rectangle around the whole (!) reference card. Finish each step with \"enter\"."
   ]
  },
  {
   "cell_type": "code",
   "execution_count": 5,
   "metadata": {},
   "outputs": [
    {
     "name": "stdout",
     "output_type": "stream",
     "text": [
      "- measure pixel-to-mm-ratio\n",
      "Scale set\n",
      "- add column length\n",
      "Template selected\n",
      "- scale pixel-to-mm-ratio already measured (overwrite=False)\n"
     ]
    }
   ],
   "source": [
    "import phenopype as pp\n",
    "\n",
    "ref_path = r\"images/stickleback_side.jpg\"\n",
    "filepath = r\"images/stickle1.jpg\"\n",
    "\n",
    "ref_image = pp.load_image(ref_path) ## load image as container\n",
    "ref_ratio, df_masks, template_img = pp.preprocessing.create_scale(ref_image, template=True)"
   ]
  },
  {
   "cell_type": "markdown",
   "metadata": {},
   "source": [
    "In the next step, we load the sample image again. Then we use a classic machine learning algorithm to find the scale inside our already processed image."
   ]
  },
  {
   "cell_type": "code",
   "execution_count": 6,
   "metadata": {},
   "outputs": [
    {
     "name": "stdout",
     "output_type": "stream",
     "text": [
      "---------------------------------------------------\n",
      "Reference card found with 251 keypoint matches:\n",
      "template image has 36 pixel per mm.\n",
      "current image has 34.9 pixel per mm.\n",
      "= 96.82 % of template image.\n",
      "---------------------------------------------------\n"
     ]
    }
   ],
   "source": [
    "ct = pp.load_image(filepath, cont=True) \n",
    "pp.preprocessing.find_scale(ct, template=template_img, px_mm_ratio_ref=ref_ratio, equalize=False)"
   ]
  },
  {
   "cell_type": "markdown",
   "metadata": {},
   "source": [
    "This was successful - we see that the reference card found in the image has only ~ 96 % if the size of the card we marked in the template image. This means that one mm in our current image is 34.9 pixels, whereas it was 36 pixels in the original image. This information is automatically passed on to all produced data that is produced after detecting the scale.  "
   ]
  },
  {
   "cell_type": "markdown",
   "metadata": {},
   "source": [
    "Now we draw the perimeter around the detected scale. Because the detected scale has coordinates like a mask we need the `draw_masks` function to draw it. "
   ]
  },
  {
   "cell_type": "code",
   "execution_count": 7,
   "metadata": {},
   "outputs": [
    {
     "name": "stdout",
     "output_type": "stream",
     "text": [
      "- raw image\n",
      " - show mask: scale.\n"
     ]
    }
   ],
   "source": [
    "pp.visualization.select_canvas(ct, canvas=\"raw\")\n",
    "pp.visualization.draw_masks(ct)"
   ]
  },
  {
   "cell_type": "markdown",
   "metadata": {},
   "source": [
    "Now we place our landmarks again. The resulting csv now contains a column for the pixel-to-mm-ratio from the scale we detected."
   ]
  },
  {
   "cell_type": "code",
   "execution_count": 8,
   "metadata": {},
   "outputs": [
    {
     "name": "stdout",
     "output_type": "stream",
     "text": [
      "- setting landmarks\n"
     ]
    }
   ],
   "source": [
    "pp.measurement.landmarks(ct, point_size=15, point_colour=\"green\", label_size=1, overwrite=True) \n",
    "pp.visualization.draw_landmarks(ct, point_size=15, point_colour=\"green\", label_size=1) "
   ]
  },
  {
   "cell_type": "markdown",
   "metadata": {},
   "source": [
    "Finally, we look at the results and export them."
   ]
  },
  {
   "cell_type": "code",
   "execution_count": 9,
   "metadata": {},
   "outputs": [
    {
     "data": {
      "text/html": [
       "<div>\n",
       "<style scoped>\n",
       "    .dataframe tbody tr th:only-of-type {\n",
       "        vertical-align: middle;\n",
       "    }\n",
       "\n",
       "    .dataframe tbody tr th {\n",
       "        vertical-align: top;\n",
       "    }\n",
       "\n",
       "    .dataframe thead th {\n",
       "        text-align: right;\n",
       "    }\n",
       "</style>\n",
       "<table border=\"1\" class=\"dataframe\">\n",
       "  <thead>\n",
       "    <tr style=\"text-align: right;\">\n",
       "      <th></th>\n",
       "      <th>filename</th>\n",
       "      <th>width</th>\n",
       "      <th>height</th>\n",
       "      <th>size_ratio_original</th>\n",
       "      <th>current_px_mm_ratio</th>\n",
       "      <th>landmark</th>\n",
       "      <th>x</th>\n",
       "      <th>y</th>\n",
       "    </tr>\n",
       "  </thead>\n",
       "  <tbody>\n",
       "    <tr>\n",
       "      <th>0</th>\n",
       "      <td>stickle1.jpg</td>\n",
       "      <td>2400</td>\n",
       "      <td>1600</td>\n",
       "      <td>1</td>\n",
       "      <td>34.9</td>\n",
       "      <td>1</td>\n",
       "      <td>902</td>\n",
       "      <td>333</td>\n",
       "    </tr>\n",
       "    <tr>\n",
       "      <th>1</th>\n",
       "      <td>stickle1.jpg</td>\n",
       "      <td>2400</td>\n",
       "      <td>1600</td>\n",
       "      <td>1</td>\n",
       "      <td>34.9</td>\n",
       "      <td>2</td>\n",
       "      <td>1008</td>\n",
       "      <td>593</td>\n",
       "    </tr>\n",
       "    <tr>\n",
       "      <th>2</th>\n",
       "      <td>stickle1.jpg</td>\n",
       "      <td>2400</td>\n",
       "      <td>1600</td>\n",
       "      <td>1</td>\n",
       "      <td>34.9</td>\n",
       "      <td>3</td>\n",
       "      <td>1188</td>\n",
       "      <td>343</td>\n",
       "    </tr>\n",
       "    <tr>\n",
       "      <th>3</th>\n",
       "      <td>stickle1.jpg</td>\n",
       "      <td>2400</td>\n",
       "      <td>1600</td>\n",
       "      <td>1</td>\n",
       "      <td>34.9</td>\n",
       "      <td>4</td>\n",
       "      <td>1586</td>\n",
       "      <td>305</td>\n",
       "    </tr>\n",
       "  </tbody>\n",
       "</table>\n",
       "</div>"
      ],
      "text/plain": [
       "       filename  width  height  size_ratio_original  current_px_mm_ratio  \\\n",
       "0  stickle1.jpg   2400    1600                    1                 34.9   \n",
       "1  stickle1.jpg   2400    1600                    1                 34.9   \n",
       "2  stickle1.jpg   2400    1600                    1                 34.9   \n",
       "3  stickle1.jpg   2400    1600                    1                 34.9   \n",
       "\n",
       "   landmark     x    y  \n",
       "0         1   902  333  \n",
       "1         2  1008  593  \n",
       "2         3  1188  343  \n",
       "3         4  1586  305  "
      ]
     },
     "execution_count": 9,
     "metadata": {},
     "output_type": "execute_result"
    }
   ],
   "source": [
    "pp.show_image(ct.canvas)\n",
    "ct.df_landmarks"
   ]
  },
  {
   "cell_type": "code",
   "execution_count": 10,
   "metadata": {},
   "outputs": [
    {
     "name": "stdout",
     "output_type": "stream",
     "text": [
      "- landmarks saved under ../_temp/output\\landmarks.csv (overwritten).\n",
      "- canvas saved under ../_temp/output\\canvas.jpg (overwritten).\n"
     ]
    }
   ],
   "source": [
    "pp.export.save_landmarks(ct, dirpath=r\"../_temp/output\") \n",
    "pp.export.save_canvas(ct, dirpath=r\"../_temp/output\")"
   ]
  },
  {
   "cell_type": "markdown",
   "metadata": {},
   "source": [
    "## High throughput"
   ]
  },
  {
   "cell_type": "markdown",
   "metadata": {},
   "source": [
    "Now we will use the `pype` method to place landmarks - first on a single file, and then from within a Phenopype project.  \n",
    "\n",
    "<center>\n",
    "<div style=\"text-align: left\">\n",
    "    \n",
    "![Landmarks in high throughput](_assets/ex2_ht.gif)\n",
    "    \n",
    "**High throughput method** - the `pype` method opens the image and a text editor with the pype configuration file. Any change to the configuration file, in this case the point size for landmarks, will be immediately applied to the image.  \n",
    "</div>\n",
    "</center>"
   ]
  },
  {
   "cell_type": "code",
   "execution_count": 11,
   "metadata": {},
   "outputs": [],
   "source": [
    "import phenopype as pp\n",
    "import os"
   ]
  },
  {
   "cell_type": "markdown",
   "metadata": {},
   "source": [
    "The `pype` can be used outside of a penopype project, supplying arrays or paths to images. Run the `pype` function, go to the output dirpath, and check the collected results."
   ]
  },
  {
   "cell_type": "code",
   "execution_count": 12,
   "metadata": {},
   "outputs": [
    {
     "name": "stdout",
     "output_type": "stream",
     "text": [
      "../_temp/output/ex2\\pype_config_lm1.yaml\n",
      "\n",
      "\n",
      "------------+++ new pype iteration 2020:04:23 14:29:07 +++--------------\n",
      "\n",
      "\n",
      "AUTOLOAD\n",
      "- landmarks_lm1.csv\n",
      "MEASUREMENT\n",
      "landmarks\n",
      "- landmarks already set (overwrite=False)\n",
      "VISUALIZATION\n",
      "NoneType\n",
      "- modifed image\n",
      "- autoselect canvas\n",
      "draw_landmarks\n",
      "EXPORT\n",
      "save_landmarks\n",
      "- landmarks saved under ../_temp/output/ex2\\landmarks_lm1.csv (overwritten).\n",
      "AUTOSAVE\n",
      "save_canvas\n",
      "- canvas saved under ../_temp/output/ex2\\canvas_lm1.jpg (overwritten).\n",
      "\n",
      "\n",
      "TERMINATE\n"
     ]
    },
    {
     "data": {
      "text/plain": [
       "<phenopype.main.pype at 0x24d22b71108>"
      ]
     },
     "execution_count": 12,
     "metadata": {},
     "output_type": "execute_result"
    }
   ],
   "source": [
    "filepath = r\"images/stickle1.jpg\" # works\n",
    "image = pp.load_image(filepath) # also works\n",
    "\n",
    "pp.pype(filepath, name=\"lm1\", \n",
    "        config_preset=\"landmarks_plain\", \n",
    "        dirpath=r\"../_temp/output/ex2\") \n",
    "## both \"image\" and filepath work\n",
    "## dirpath specifies a directory where all results are saved"
   ]
  },
  {
   "cell_type": "markdown",
   "metadata": {},
   "source": [
    "However, to increase throughput we will use the `pype` function on files organized within a phenopype project (see [Tutorial 2](tutorial_2_phenopype_workflow.ipynb) and [Tutorial 3](tutorial_3_managing_projects_1.ipynb) for more general information on high throughput workflow). We start with providing some paths, and including select images into the project (i.e. all stickleback images). Make sure you "
   ]
  },
  {
   "cell_type": "code",
   "execution_count": 13,
   "metadata": {},
   "outputs": [],
   "source": [
    "\n",
    "## relative from now (phenopype-master/tutorials)\n",
    "project_root = r\"../_temp/project\"\n",
    "\n",
    "## relative from project root directory (phenopype-master/_temp/project) \n",
    "image_dir = \"../../tutorials/images\"\n",
    "reference_image = \"../../tutorials/images/stickleback_side.jpg\""
   ]
  },
  {
   "cell_type": "code",
   "execution_count": 14,
   "metadata": {},
   "outputs": [
    {
     "name": "stdout",
     "output_type": "stream",
     "text": [
      "--------------------------------------------\n",
      "Phenopype will create a new project at\n",
      "\n",
      "E:\\git_repos\\phenopype\\_temp\\project\n",
      "\n",
      "and change the current working directory to this location.\n",
      "Proceed? (y/n)\n",
      "y\n",
      "Warning - project root_dir already exists - overwrite? (y/n)y\n",
      "\n",
      "\"E:\\git_repos\\phenopype\\_temp\\project\" created (overwritten)\n",
      "Current working directory changed to E:\\git_repos\\phenopype\\_temp\\project\n",
      "\n",
      "project attributes written to E:\\git_repos\\phenopype\\_temp\\project\\attributes.yaml\n",
      "--------------------------------------------\n"
     ]
    }
   ],
   "source": [
    "myproj = pp.project(root_dir=project_root)"
   ]
  },
  {
   "cell_type": "markdown",
   "metadata": {},
   "source": [
    "First we add the image files in the directory, but only \"stickle1\", \"stickle2\", and \"stickle3\". Then we add the appropriate configuration file. As for the other examples I have created a preset (\"ex2\") with appropriate settings for the example. The template can be passed to the pype using `config_preset=\"ex2\"`."
   ]
  },
  {
   "cell_type": "code",
   "execution_count": 15,
   "metadata": {},
   "outputs": [
    {
     "name": "stdout",
     "output_type": "stream",
     "text": [
      "--------------------------------------------\n",
      "phenopype will search for files at\n",
      "\n",
      "E:\\git_repos\\phenopype\\tutorials\\images\n",
      "\n",
      "using the following settings:\n",
      "\n",
      "filetypes: ['jpg', 'JPG', 'jpeg', 'JPEG', 'tif', 'png'], include: stickle, exclude: ['side', 'top'], raw_mode: copy, search_mode: dir, unique_mode: path\n",
      "\n",
      "Found image stickle1.JPG - phenopype-project folder 0__stickle1 created\n",
      "no meta-data found\n",
      "Found image stickle2.JPG - phenopype-project folder 0__stickle2 created\n",
      "no meta-data found\n",
      "Found image stickle3.JPG - phenopype-project folder 0__stickle3 created\n",
      "no meta-data found\n",
      "\n",
      "Found 3 files\n",
      "--------------------------------------------\n",
      "pype config generated from ex2.\n",
      "pype_lm2.yaml created for 0__stickle1\n",
      "pype_lm2.yaml created for 0__stickle2\n",
      "pype_lm2.yaml created for 0__stickle3\n",
      "\n",
      "preprocessing: \n",
      "- find_scale\n",
      "measurement:\n",
      "- landmarks:\n",
      "    point_size: 12\n",
      "    point_colour: green\n",
      "    label_size: 2\n",
      "    label_width: 2\n",
      "visualization:\n",
      "- draw_masks\n",
      "- draw_landmarks:\n",
      "    point_size: 12\n",
      "    point_colour: green\n",
      "    label_size: 2\n",
      "    label_width: 2\n",
      "export:\n",
      "- save_landmarks\n",
      "- save_masks\n",
      "\n"
     ]
    }
   ],
   "source": [
    "myproj.add_files(image_dir=image_dir, include=\"stickle\", exclude=[\"side\",\"top\"])\n",
    "myproj.add_config(name = \"lm2\", config_preset=\"ex2\")\n",
    "print(pp.presets.ex2)"
   ]
  },
  {
   "cell_type": "markdown",
   "metadata": {},
   "source": [
    "Now we again set scale, but this time we pass on the information to all images included in the project. Afterwards, we save the project (to the root folder). "
   ]
  },
  {
   "cell_type": "code",
   "execution_count": 16,
   "metadata": {},
   "outputs": [
    {
     "name": "stdout",
     "output_type": "stream",
     "text": [
      "- scale template saved under scale_template.jpg.\n",
      "- measure pixel-to-mm-ratio\n",
      "Scale set\n",
      "- add column length\n",
      "Template selected\n",
      "- scale pixel-to-mm-ratio already measured (overwrite=False)\n",
      "added scale information to 0__stickle1\n",
      "added scale information to 0__stickle2\n",
      "added scale information to 0__stickle3\n",
      "Project data saved under E:\\git_repos\\phenopype\\_temp\\project\\project.data.\n"
     ]
    }
   ],
   "source": [
    "myproj.add_scale(reference_image = reference_image, overwrite=True)\n",
    "pp.project.save(myproj)"
   ]
  },
  {
   "cell_type": "code",
   "execution_count": 17,
   "metadata": {},
   "outputs": [],
   "source": [
    "## if you have already run above cell you can load your project using \"project.load\":\n",
    "# myproj = pp.project.load(r\"../_temp/project/project.data\") ## run this if you "
   ]
  },
  {
   "cell_type": "markdown",
   "metadata": {},
   "source": [
    "After creating the project files, we can run the `pype` routine with a simple loop on `myproj.dirpaths`, which is a list of all project directories that contain the copied raw images and the config files we generated in the above cell. Interrup the loop with Esc. To resume to the point where you left, add the `skip` argument so directory with processed files are not run again."
   ]
  },
  {
   "cell_type": "code",
   "execution_count": 18,
   "metadata": {},
   "outputs": [
    {
     "name": "stdout",
     "output_type": "stream",
     "text": [
      "E:\\git_repos\\phenopype\\_temp\\project\\data/0__stickle1\\pype_config_lm2.yaml\n",
      "\n",
      "\n",
      "------------+++ new pype iteration 2020:04:23 14:30:33 +++--------------\n",
      "\n",
      "\n",
      "AUTOLOAD\n",
      "- template scale information loaded from attributes.yaml\n",
      "- template loaded from root directory\n",
      "PREPROCESSING\n",
      "find_scale\n",
      "---------------------------------------------------\n",
      "Reference card found with 231 keypoint matches:\n",
      "template image has 36 pixel per mm.\n",
      "current image has 34.9 pixel per mm.\n",
      "= 96.814 % of template image.\n",
      "---------------------------------------------------\n",
      "MEASUREMENT\n",
      "landmarks\n",
      "- setting landmarks\n",
      "VISUALIZATION\n",
      "NoneType\n",
      "- modifed image\n",
      "- autoselect canvas\n",
      "draw_masks\n",
      " - show mask: scale.\n",
      "ndarray\n",
      "draw_landmarks\n",
      "EXPORT\n",
      "save_landmarks\n",
      "- landmarks saved under E:\\git_repos\\phenopype\\_temp\\project\\data/0__stickle1\\landmarks_lm2.csv.\n",
      "save_masks\n",
      "- masks saved under E:\\git_repos\\phenopype\\_temp\\project\\data/0__stickle1\\masks_lm2.csv.\n",
      "AUTOSAVE\n",
      "save_canvas\n",
      "- canvas saved under E:\\git_repos\\phenopype\\_temp\\project\\data/0__stickle1\\canvas_lm2.jpg.\n",
      "save_scale\n",
      "- save scale to attributes\n",
      "\n",
      "\n",
      "TERMINATE\n",
      "E:\\git_repos\\phenopype\\_temp\\project\\data/0__stickle2\\pype_config_lm2.yaml\n",
      "\n",
      "\n",
      "------------+++ new pype iteration 2020:04:23 14:30:37 +++--------------\n",
      "\n",
      "\n",
      "AUTOLOAD\n",
      "- template scale information loaded from attributes.yaml\n",
      "- template loaded from root directory\n",
      "PREPROCESSING\n",
      "find_scale\n",
      "---------------------------------------------------\n",
      "Reference card found with 204 keypoint matches:\n",
      "template image has 36 pixel per mm.\n",
      "current image has 34.8 pixel per mm.\n",
      "= 96.679 % of template image.\n",
      "---------------------------------------------------\n",
      "MEASUREMENT\n",
      "landmarks\n",
      "- setting landmarks\n",
      "VISUALIZATION\n",
      "NoneType\n",
      "- modifed image\n",
      "- autoselect canvas\n",
      "draw_masks\n",
      " - show mask: scale.\n",
      "ndarray\n",
      "draw_landmarks\n",
      "EXPORT\n",
      "save_landmarks\n",
      "- landmarks saved under E:\\git_repos\\phenopype\\_temp\\project\\data/0__stickle2\\landmarks_lm2.csv.\n",
      "save_masks\n",
      "- masks saved under E:\\git_repos\\phenopype\\_temp\\project\\data/0__stickle2\\masks_lm2.csv.\n",
      "AUTOSAVE\n",
      "save_canvas\n",
      "- canvas saved under E:\\git_repos\\phenopype\\_temp\\project\\data/0__stickle2\\canvas_lm2.jpg.\n",
      "save_scale\n",
      "- save scale to attributes\n",
      "\n",
      "\n",
      "TERMINATE\n",
      "E:\\git_repos\\phenopype\\_temp\\project\\data/0__stickle3\\pype_config_lm2.yaml\n",
      "\n",
      "\n",
      "------------+++ new pype iteration 2020:04:23 14:30:41 +++--------------\n",
      "\n",
      "\n",
      "AUTOLOAD\n",
      "- template scale information loaded from attributes.yaml\n",
      "- template loaded from root directory\n",
      "PREPROCESSING\n",
      "find_scale\n",
      "---------------------------------------------------\n",
      "Reference card found with 233 keypoint matches:\n",
      "template image has 36 pixel per mm.\n",
      "current image has 34.8 pixel per mm.\n",
      "= 96.791 % of template image.\n",
      "---------------------------------------------------\n",
      "MEASUREMENT\n",
      "landmarks\n",
      "- setting landmarks\n",
      "VISUALIZATION\n",
      "NoneType\n",
      "- modifed image\n",
      "- autoselect canvas\n",
      "draw_masks\n",
      " - show mask: scale.\n",
      "ndarray\n",
      "draw_landmarks\n",
      "EXPORT\n",
      "save_landmarks\n",
      "- landmarks saved under E:\\git_repos\\phenopype\\_temp\\project\\data/0__stickle3\\landmarks_lm2.csv.\n",
      "save_masks\n",
      "- masks saved under E:\\git_repos\\phenopype\\_temp\\project\\data/0__stickle3\\masks_lm2.csv.\n",
      "AUTOSAVE\n",
      "save_canvas\n",
      "- canvas saved under E:\\git_repos\\phenopype\\_temp\\project\\data/0__stickle3\\canvas_lm2.jpg.\n",
      "save_scale\n",
      "- save scale to attributes\n",
      "\n",
      "\n",
      "TERMINATE\n"
     ]
    }
   ],
   "source": [
    "for dirpath in myproj.dirpaths:\n",
    "    out = pp.pype(dirpath, name=\"lm2\", skip=True) "
   ]
  },
  {
   "cell_type": "code",
   "execution_count": null,
   "metadata": {},
   "outputs": [],
   "source": []
  }
 ],
 "metadata": {
  "kernelspec": {
   "display_name": "Python 3",
   "language": "python",
   "name": "python3"
  },
  "language_info": {
   "codemirror_mode": {
    "name": "ipython",
    "version": 3
   },
   "file_extension": ".py",
   "mimetype": "text/x-python",
   "name": "python",
   "nbconvert_exporter": "python",
   "pygments_lexer": "ipython3",
   "version": "3.7.5"
  }
 },
 "nbformat": 4,
 "nbformat_minor": 2
}
