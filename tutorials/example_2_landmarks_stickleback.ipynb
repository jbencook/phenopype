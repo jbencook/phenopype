{
 "cells": [
  {
   "cell_type": "markdown",
   "metadata": {},
   "source": [
    "# Example 2: Stickleback morphometrics - landmarks\n",
    "\n",
    "Functional morphology of organisms is often measured by placing landmarks at specific points that show structural, functional or developmental significance. In this example phenopype is used to place morphometric landmarks across the anterior half of a stickleback (*Gasterosteus aculeatus*) stained with alizarin red.\n",
    "\n",
    "First we place landmarks in low throughput mode to learn how the landmark-function works, then we look at a high throughput landkmark example with a project directory and a global scale. "
   ]
  },
  {
   "cell_type": "markdown",
   "metadata": {},
   "source": [
    "<center>\n",
    "<div style=\"width:600px; text-align: left\" >\n",
    "    \n",
    "![Phenopype workflow example](images/stickle1.JPG)\n",
    "    \n",
    "</div>\n",
    "</center>"
   ]
  },
  {
   "cell_type": "markdown",
   "metadata": {},
   "source": [
    "## Low throughput"
   ]
  },
  {
   "cell_type": "code",
   "execution_count": 15,
   "metadata": {},
   "outputs": [],
   "source": [
    "import phenopype as pp\n",
    "\n",
    "filepath = r\"images/stickle1.jpg\"\n",
    "\n",
    "ct = pp.load_image(filepath, cont=True) ## load image as container"
   ]
  },
  {
   "cell_type": "code",
   "execution_count": 16,
   "metadata": {},
   "outputs": [
    {
     "name": "stdout",
     "output_type": "stream",
     "text": [
      "- setting landmarks\n"
     ]
    }
   ],
   "source": [
    "## just place a few test-landmarks\n",
    "\n",
    "pp.measurement.landmarks(ct, point_size=5, point_col=\"green\", label_size=1, overwrite=True) \n",
    "\n",
    "## sets landmarks. the landmarks get stored inside the container. if you have already placed landmarks\n",
    "## to the same container and set \"overwrite=False\", you wont be able to place them again until you set\n",
    "## the overwrite flag to \"True\""
   ]
  },
  {
   "cell_type": "markdown",
   "metadata": {},
   "source": [
    "To create an control-image with the selected points, the `show_landmarks` has to be called explicitly. This is necessary when using the low throughput, but not the high throughput routine (see [Tutorial 2](tutorial_2_phenopype_workflow.ipynb)); likewise the `save_landmarks` function."
   ]
  },
  {
   "cell_type": "code",
   "execution_count": 17,
   "metadata": {},
   "outputs": [
    {
     "name": "stdout",
     "output_type": "stream",
     "text": [
      "- landmarks saved under ../_temp/output\\landmarks.csv (overwritten).\n",
      "- canvas saved under ../_temp/output\\canvas.jpg (overwritten).\n"
     ]
    }
   ],
   "source": [
    "pp.visualization.show_landmarks(ct, point_size=5, point_col=\"green\", label_size=1) \n",
    "## draw landmarks on canvas. appearance needs to be specified here too\n",
    "pp.export.save_landmarks(ct, dirpath=r\"../_temp/output\") ## save landmarks as csv to folder\n",
    "pp.export.save_canvas(ct, dirpath=r\"../_temp/output\") ## save landmarks as csv to folder\n"
   ]
  },
  {
   "cell_type": "markdown",
   "metadata": {},
   "source": [
    "###  Adding a scale\n",
    "\n",
    "Now we will do the same thing again, but this time we use a reference image to create a scale-template so we can adjust our landmark coordinate space. This is important if for example the distance between the camera and your sample changes.  \n",
    "\n",
    "<center>\n",
    "<div style=\"width:400px; text-align: left\" >\n",
    "    \n",
    "![Phenopype workflow example](images/stickleback_side.jpg)\n",
    "    \n",
    "</div>\n",
    "</center>"
   ]
  },
  {
   "cell_type": "markdown",
   "metadata": {},
   "source": [
    "After loading the reference image, we measure the distance on the millimeter scale (click on two points inside the image), enter the distance (e.g. 10 mm), and then we create a template by dragging a rectangle around the whole (!) reference card. Finish each step with \"enter\"."
   ]
  },
  {
   "cell_type": "code",
   "execution_count": 24,
   "metadata": {},
   "outputs": [
    {
     "name": "stdout",
     "output_type": "stream",
     "text": [
      "Scale set\n",
      "- add column length\n",
      "Template selected\n"
     ]
    }
   ],
   "source": [
    "ref_path = r\"images/stickleback_side.jpg\"\n",
    "\n",
    "ref_image = pp.load_image(ref_path) ## load image as container\n",
    "ref_px_mm_ratio, template_img = pp.preprocessing.create_scale(ref_image, template=True)"
   ]
  },
  {
   "cell_type": "markdown",
   "metadata": {},
   "source": [
    "In the next step, we load the sample image again. Then we use a classic machine learning algorithm to find the scale inside our already processed image."
   ]
  },
  {
   "cell_type": "code",
   "execution_count": 26,
   "metadata": {},
   "outputs": [
    {
     "name": "stdout",
     "output_type": "stream",
     "text": [
      "---------------------------------------------------\n",
      "Reference card found with 249 keypoint matches:\n",
      "template image has 36 pixel per mm.\n",
      "current image has 34.9 pixel per mm.\n",
      "= 96.839 % of template image.\n",
      "---------------------------------------------------\n"
     ]
    }
   ],
   "source": [
    "ct = pp.load_image(filepath, cont=True) \n",
    "pp.preprocessing.find_scale(ct, template=template_img, px_mm_ratio=ref_px_mm_ratio, equalize=False)"
   ]
  },
  {
   "cell_type": "markdown",
   "metadata": {},
   "source": [
    "Now we draw the perimeter around the detected scale, and plot it. "
   ]
  },
  {
   "cell_type": "code",
   "execution_count": 27,
   "metadata": {},
   "outputs": [
    {
     "name": "stdout",
     "output_type": "stream",
     "text": [
      " - show mask: scale.\n"
     ]
    }
   ],
   "source": [
    "pp.visualization.show_masks(ct)"
   ]
  },
  {
   "cell_type": "markdown",
   "metadata": {},
   "source": [
    "Now we place our landmarks again. The resulting csv now contains a column for the pixel-to-mm-ratio from the scale we detected."
   ]
  },
  {
   "cell_type": "code",
   "execution_count": 28,
   "metadata": {},
   "outputs": [
    {
     "name": "stdout",
     "output_type": "stream",
     "text": [
      "- setting landmarks\n"
     ]
    }
   ],
   "source": [
    "pp.measurement.landmarks(ct, point_size=5, point_col=\"green\", label_size=1, overwrite=True) "
   ]
  },
  {
   "cell_type": "markdown",
   "metadata": {},
   "source": [
    "Finally, we look at the results and export them."
   ]
  },
  {
   "cell_type": "code",
   "execution_count": 30,
   "metadata": {},
   "outputs": [
    {
     "name": "stdout",
     "output_type": "stream",
     "text": [
      "- landmarks saved under ../_temp/output\\landmarks.csv (overwritten).\n",
      "- canvas saved under ../_temp/output\\canvas.jpg (overwritten).\n"
     ]
    }
   ],
   "source": [
    "pp.visualization.show_landmarks(ct, point_size=5, point_col=\"green\", label_size=1) \n",
    "pp.show_image(ct.canvas)\n",
    "\n",
    "pp.export.save_landmarks(ct, dirpath=r\"../_temp/output\") \n",
    "pp.export.save_canvas(ct, dirpath=r\"../_temp/output\")"
   ]
  }
 ],
 "metadata": {
  "kernelspec": {
   "display_name": "Python 3",
   "language": "python",
   "name": "python3"
  },
  "language_info": {
   "codemirror_mode": {
    "name": "ipython",
    "version": 3
   },
   "file_extension": ".py",
   "mimetype": "text/x-python",
   "name": "python",
   "nbconvert_exporter": "python",
   "pygments_lexer": "ipython3",
   "version": "3.7.5"
  }
 },
 "nbformat": 4,
 "nbformat_minor": 2
}
