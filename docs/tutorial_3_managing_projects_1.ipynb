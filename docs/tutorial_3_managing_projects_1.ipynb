{
 "cells": [
  {
   "cell_type": "markdown",
   "metadata": {},
   "source": [
    "# Tutorial 3: Setting up and managing phenopype projects\n"
   ]
  },
  {
   "cell_type": "markdown",
   "metadata": {},
   "source": [
    "A central aspect of efficiently using Phenopype is to work from within a `project`. Phenopype projects are composed of a directory tree in which each folder contains the copy or a link to a single raw image file (1). Alongside the images to be processed, users can store configuration file for the `pype` routine that we covered in the  [previous tutorial](tutorial_2_phenopype_workflow.ipynb): configurations files can be created using preconfigured templates, which can easily be modifed (2). Once raw images have been added and configuration files are in place, the `pype` routine is used until results are satisfactory (3). Together, the raw images, the `pype`-configuration files and the saved results files are all that is needed to completely reproduce any phenotypic data that was collected in the process (4). "
   ]
  },
  {
   "cell_type": "markdown",
   "metadata": {},
   "source": [
    "## Create project and add images"
   ]
  },
  {
   "cell_type": "markdown",
   "metadata": {},
   "source": [
    "<center>\n",
    "<div style=\"width:500px; text-align: left\" >\n",
    "    \n",
    "![Step 1](_assets/workflow_high_step1.png)\n",
    "    \n",
    "**Step. 1**: Create a phenopype project and organize raw images into separate folders where all relevant data, attributes and results are stored. \n",
    "    \n",
    "</div>\n",
    "</center>"
   ]
  },
  {
   "cell_type": "markdown",
   "metadata": {},
   "source": [
    "A Phenopype project directory can be initiatlized with the `project` function. The *phenoype project root folder* should be separate from the raw data, e.g. as a folder inside of your *main project folder*:"
   ]
  },
  {
   "cell_type": "code",
   "execution_count": 1,
   "metadata": {},
   "outputs": [],
   "source": [
    "import phenopype as pp\n",
    "import os"
   ]
  },
  {
   "cell_type": "code",
   "execution_count": 2,
   "metadata": {},
   "outputs": [
    {
     "name": "stdout",
     "output_type": "stream",
     "text": [
      "--------------------------------------------\n",
      "phenopype will create a new project at:\n",
      "\n",
      "../_temp/my_project/phenopype_analysis\n"
     ]
    },
    {
     "ename": "StdinNotImplementedError",
     "evalue": "raw_input was called, but this frontend does not support input requests.",
     "output_type": "error",
     "traceback": [
      "\u001b[1;31m---------------------------------------------------------------------------\u001b[0m",
      "\u001b[1;31mStdinNotImplementedError\u001b[0m                  Traceback (most recent call last)",
      "\u001b[1;32m<ipython-input-2-f302eafcd68d>\u001b[0m in \u001b[0;36m<module>\u001b[1;34m\u001b[0m\n\u001b[1;32m----> 1\u001b[1;33m \u001b[0mmyproj\u001b[0m \u001b[1;33m=\u001b[0m \u001b[0mpp\u001b[0m\u001b[1;33m.\u001b[0m\u001b[0mproject\u001b[0m\u001b[1;33m(\u001b[0m\u001b[0mroot_dir\u001b[0m\u001b[1;33m=\u001b[0m\u001b[1;34mr\"../_temp/my_project/phenopype_analysis\"\u001b[0m\u001b[1;33m)\u001b[0m \u001b[1;31m## doesn't have to be \"myproj\", can be named anything\u001b[0m\u001b[1;33m\u001b[0m\u001b[1;33m\u001b[0m\u001b[0m\n\u001b[0m",
      "\u001b[1;32me:\\git_repos\\phenopype\\phenopype\\main.py\u001b[0m in \u001b[0;36m__init__\u001b[1;34m(self, root_dir, overwrite)\u001b[0m\n\u001b[0;32m     62\u001b[0m         \u001b[1;31m## decision tree if directory exists\u001b[0m\u001b[1;33m\u001b[0m\u001b[1;33m\u001b[0m\u001b[1;33m\u001b[0m\u001b[0m\n\u001b[0;32m     63\u001b[0m         \u001b[1;32mwhile\u001b[0m \u001b[1;32mTrue\u001b[0m\u001b[1;33m:\u001b[0m\u001b[1;33m\u001b[0m\u001b[1;33m\u001b[0m\u001b[0m\n\u001b[1;32m---> 64\u001b[1;33m             \u001b[0mcreate\u001b[0m \u001b[1;33m=\u001b[0m \u001b[0minput\u001b[0m\u001b[1;33m(\u001b[0m\u001b[1;34m\"Proceed? (y/n)\\n\"\u001b[0m\u001b[1;33m)\u001b[0m\u001b[1;33m\u001b[0m\u001b[1;33m\u001b[0m\u001b[0m\n\u001b[0m\u001b[0;32m     65\u001b[0m             \u001b[1;32mif\u001b[0m \u001b[0mcreate\u001b[0m\u001b[1;33m==\u001b[0m\u001b[1;34m\"y\"\u001b[0m \u001b[1;32mor\u001b[0m \u001b[0mcreate\u001b[0m \u001b[1;33m==\u001b[0m \u001b[1;34m\"yes\"\u001b[0m\u001b[1;33m:\u001b[0m\u001b[1;33m\u001b[0m\u001b[1;33m\u001b[0m\u001b[0m\n\u001b[0;32m     66\u001b[0m                 \u001b[1;32mif\u001b[0m \u001b[0mos\u001b[0m\u001b[1;33m.\u001b[0m\u001b[0mpath\u001b[0m\u001b[1;33m.\u001b[0m\u001b[0misdir\u001b[0m\u001b[1;33m(\u001b[0m\u001b[0mroot_dir\u001b[0m\u001b[1;33m)\u001b[0m\u001b[1;33m:\u001b[0m\u001b[1;33m\u001b[0m\u001b[1;33m\u001b[0m\u001b[0m\n",
      "\u001b[1;32mC:\\Anaconda3\\envs\\pp37\\lib\\site-packages\\ipykernel\\kernelbase.py\u001b[0m in \u001b[0;36mraw_input\u001b[1;34m(self, prompt)\u001b[0m\n\u001b[0;32m    852\u001b[0m         \u001b[1;32mif\u001b[0m \u001b[1;32mnot\u001b[0m \u001b[0mself\u001b[0m\u001b[1;33m.\u001b[0m\u001b[0m_allow_stdin\u001b[0m\u001b[1;33m:\u001b[0m\u001b[1;33m\u001b[0m\u001b[1;33m\u001b[0m\u001b[0m\n\u001b[0;32m    853\u001b[0m             raise StdinNotImplementedError(\n\u001b[1;32m--> 854\u001b[1;33m                 \u001b[1;34m\"raw_input was called, but this frontend does not support input requests.\"\u001b[0m\u001b[1;33m\u001b[0m\u001b[1;33m\u001b[0m\u001b[0m\n\u001b[0m\u001b[0;32m    855\u001b[0m             )\n\u001b[0;32m    856\u001b[0m         return self._input_request(str(prompt),\n",
      "\u001b[1;31mStdinNotImplementedError\u001b[0m: raw_input was called, but this frontend does not support input requests."
     ]
    }
   ],
   "source": [
    "myproj = pp.project(root_dir=r\"../_temp/my_project/phenopype_analysis\") ## doesn't have to be \"myproj\", can be named anything"
   ]
  },
  {
   "cell_type": "markdown",
   "metadata": {},
   "source": [
    "Next step is to add images to the project. You can do so with the `add_files` method of the created project (a *method* is an executable function that belongs to an existing *object*, in this case \"myproj. see [this SO question](https://stackoverflow.com/questions/155609/whats-the-difference-between-a-method-and-a-function)). The function offers some flexibility in terms of which files to import. Most important arguments here are `include`, `exclude` and `filetypes`. For example, given the following list of images:"
   ]
  },
  {
   "cell_type": "code",
   "execution_count": 3,
   "metadata": {},
   "outputs": [
    {
     "data": {
      "text/plain": [
       "['canvas.jpg',\n",
       " 'contours.csv',\n",
       " 'isopods.jpg',\n",
       " 'masks.csv',\n",
       " 'phytoplankton.jpg',\n",
       " 'snail.jpg',\n",
       " 'stickle1.JPG',\n",
       " 'stickle2.JPG',\n",
       " 'stickle3.JPG',\n",
       " 'stickleback_side.jpg',\n",
       " 'stickleback_top.jpg']"
      ]
     },
     "execution_count": 3,
     "metadata": {},
     "output_type": "execute_result"
    }
   ],
   "source": [
    "os.listdir(\"images\") ## called from phenopype-master"
   ]
  },
  {
   "cell_type": "markdown",
   "metadata": {},
   "source": [
    "If we want to import \"stickle1\", \"stickle2\", and \"stickle3\", we can do a combination `include` and `exclude` (also prints all other default settings):"
   ]
  },
  {
   "cell_type": "code",
   "execution_count": 4,
   "metadata": {},
   "outputs": [
    {
     "ename": "NameError",
     "evalue": "name 'myproj' is not defined",
     "output_type": "error",
     "traceback": [
      "\u001b[1;31m---------------------------------------------------------------------------\u001b[0m",
      "\u001b[1;31mNameError\u001b[0m                                 Traceback (most recent call last)",
      "\u001b[1;32m<ipython-input-4-399602fa2260>\u001b[0m in \u001b[0;36m<module>\u001b[1;34m\u001b[0m\n\u001b[1;32m----> 1\u001b[1;33m myproj.add_files(image_dir=\"images\",\n\u001b[0m\u001b[0;32m      2\u001b[0m                  \u001b[0minclude\u001b[0m\u001b[1;33m=\u001b[0m\u001b[1;34m\"stickle\"\u001b[0m\u001b[1;33m,\u001b[0m       \u001b[1;31m## can be type \"str\" or type \"list\"\u001b[0m\u001b[1;33m\u001b[0m\u001b[1;33m\u001b[0m\u001b[0m\n\u001b[0;32m      3\u001b[0m                  \u001b[0mexclude\u001b[0m\u001b[1;33m=\u001b[0m\u001b[1;33m[\u001b[0m\u001b[1;34m\"side\"\u001b[0m\u001b[1;33m,\u001b[0m\u001b[1;34m\"top\"\u001b[0m\u001b[1;33m]\u001b[0m   \u001b[1;31m## can be type \"str\" or type \"list\"\u001b[0m\u001b[1;33m\u001b[0m\u001b[1;33m\u001b[0m\u001b[0m\n\u001b[0;32m      4\u001b[0m                 ) \n",
      "\u001b[1;31mNameError\u001b[0m: name 'myproj' is not defined"
     ]
    }
   ],
   "source": [
    "myproj.add_files(image_dir=\"images\",\n",
    "                 include=\"stickle\",       ## can be type \"str\" or type \"list\"\n",
    "                 exclude=[\"side\",\"top\"]   ## can be type \"str\" or type \"list\"\n",
    "                ) "
   ]
  },
  {
   "cell_type": "markdown",
   "metadata": {},
   "source": [
    "The three images have the same (nonstandard) file ending, so we can also use the filetype argument (and the overwrite argument, because have already added them above):"
   ]
  },
  {
   "cell_type": "code",
   "execution_count": 5,
   "metadata": {},
   "outputs": [
    {
     "ename": "NameError",
     "evalue": "name 'myproj' is not defined",
     "output_type": "error",
     "traceback": [
      "\u001b[1;31m---------------------------------------------------------------------------\u001b[0m",
      "\u001b[1;31mNameError\u001b[0m                                 Traceback (most recent call last)",
      "\u001b[1;32m<ipython-input-5-21852fe82f0f>\u001b[0m in \u001b[0;36m<module>\u001b[1;34m\u001b[0m\n\u001b[1;32m----> 1\u001b[1;33m myproj.add_files(image_dir=\"images\",\n\u001b[0m\u001b[0;32m      2\u001b[0m                 \u001b[0mfiletypes\u001b[0m\u001b[1;33m=\u001b[0m\u001b[1;34m\"JPG\"\u001b[0m \u001b[1;33m,\u001b[0m      \u001b[1;31m## can be type \"str\" or type \"list\"\u001b[0m\u001b[1;33m\u001b[0m\u001b[1;33m\u001b[0m\u001b[0m\n\u001b[0;32m      3\u001b[0m                 \u001b[0moverwrite\u001b[0m\u001b[1;33m=\u001b[0m\u001b[1;32mTrue\u001b[0m\u001b[1;33m\u001b[0m\u001b[1;33m\u001b[0m\u001b[0m\n\u001b[0;32m      4\u001b[0m                ) \n",
      "\u001b[1;31mNameError\u001b[0m: name 'myproj' is not defined"
     ]
    }
   ],
   "source": [
    " myproj.add_files(image_dir=\"images\",\n",
    "                 filetypes=\"JPG\" ,      ## can be type \"str\" or type \"list\"\n",
    "                 overwrite=True\n",
    "                ) "
   ]
  },
  {
   "cell_type": "markdown",
   "metadata": {},
   "source": [
    "The remaining settings are `raw_mode`, `search_mode`, `unique_mode`. `raw_mode` determines whether raw files should be copied to each folder in the Phenopype directory tree (using `copy` [default]), or just their filepath (using `link`), which can be useful if data sets contain many or very large images. `search_mode` indicates whether only the top directory (`dir` [default]), or also all subdirectories (`recursive`) should be included in the search. `unique_mode` indicates whether files should be unique by their path (`filepath` [default]) or only by their name (`filename`) - duplicate files will be skipped.  "
   ]
  },
  {
   "cell_type": "code",
   "execution_count": 6,
   "metadata": {},
   "outputs": [
    {
     "name": "stdout",
     "output_type": "stream",
     "text": [
      "Help on function add_files in module phenopype.main:\n",
      "\n",
      "add_files(self, image_dir, filetypes=['jpg', 'JPG', 'jpeg', 'JPEG', 'tif', 'png'], include=[], exclude=[], raw_mode='copy', search_mode='dir', unique_mode='path', overwrite=False, resize=1, **kwargs)\n",
      "    Add files to your project from a directory, can look recursively. \n",
      "    Specify in- or exclude arguments, filetypes, duplicate-action and copy \n",
      "    or link raw files to save memory on the harddrive. For each found image,\n",
      "    a folder will be created in the \"data\" folder within the projects root\n",
      "    directory. If found images are in subfolders and search_mode is \n",
      "    recursive, the respective phenopype directories will be created with \n",
      "    flattened path as prefix. \n",
      "    \n",
      "    E.g., with \"raw_files\" as folder with the original image files \n",
      "    and \"phenopype_proj\" as rootfolder:\n",
      "    \n",
      "    - raw_files/file.jpg ==> phenopype_proj/data/file.jpg\n",
      "    - raw_files/subdir1/file.jpg ==> phenopype_proj/data/1__subdir1__file.jpg\n",
      "    - raw_files/subdir1/subdir2/file.jpg ==> phenopype_proj/data/2__subdir1__subdir2__file.jpg\n",
      "    \n",
      "    Parameters\n",
      "    ----------\n",
      "    \n",
      "    image_dir: str \n",
      "        path to directory with images\n",
      "    filetypes: list or str, optional\n",
      "        single or multiple string patterns to target files with certain endings.\n",
      "        \"default_filetypes\" are configured in settings.py\n",
      "    include: list or str, optional\n",
      "        single or multiple string patterns to target certain files to include\n",
      "    exclude: list or str, optional\n",
      "        single or multiple string patterns to target certain files to exclude - \n",
      "        can overrule \"include\"\n",
      "    raw_mode: {\"copy\", \"link\"} str, optional\n",
      "        how should the raw files be passed on to the phenopype directory tree: \n",
      "        \"copy\" will make a copy of the original file, \"link\" will only send the \n",
      "        link to the original raw file to attributes, but not copy the actual \n",
      "        file (useful for big files)\n",
      "    search_mode: {\"dir\", \"recursive\"}, str, optional\n",
      "        \"dir\" searches current directory for valid files; \"recursive\" walks \n",
      "        through all subdirectories\n",
      "    unique_mode: {\"filepath\", \"filename\"}, str, optional:\n",
      "        how to deal with image duplicates - \"filepath\" is useful if identically \n",
      "        named files exist in different subfolders (folder structure will be \n",
      "        collapsed and goes into the filename), whereas filename will ignore \n",
      "        all similar named files after their first occurrence.\n",
      "    kwargs: \n",
      "        developer options\n",
      "\n"
     ]
    }
   ],
   "source": [
    "help(pp.project.add_files)"
   ]
  },
  {
   "cell_type": "markdown",
   "metadata": {},
   "source": [
    "## Add pype-configuration files "
   ]
  },
  {
   "cell_type": "markdown",
   "metadata": {},
   "source": [
    "<center>\n",
    "<div style=\"width:500px; text-align: left\" >\n",
    "    \n",
    "![Step 2](_assets/workflow_high_step2.png)\n",
    "    \n",
    "**Step. 2**: Create configuration files and store them alongside the raw images.\n",
    "    \n",
    "</div>\n",
    "</center>"
   ]
  },
  {
   "cell_type": "markdown",
   "metadata": {},
   "source": [
    "In the next step we prepare the files we added for use with the `pype` routine by addding a configuration file with the `add_config` method. Instead of adding the functions one by one we can load presets that are appropriate for the given computer vision analysis.\n",
    "\n",
    "Currently, the different templates are stored inside a Python file, and can be inspected using `dir(pp.presets)` to show all existing presets, and `print(pp.presets.landmarks_plain)` to show the contents."
   ]
  },
  {
   "cell_type": "code",
   "execution_count": 7,
   "metadata": {},
   "outputs": [
    {
     "data": {
      "text/plain": [
       "['__builtins__',\n",
       " '__cached__',\n",
       " '__doc__',\n",
       " '__file__',\n",
       " '__loader__',\n",
       " '__name__',\n",
       " '__package__',\n",
       " '__spec__',\n",
       " 'demo1',\n",
       " 'inverted1',\n",
       " 'landmarks_2',\n",
       " 'landmarks_plain',\n",
       " 'object_detection_morph',\n",
       " 'object_detection_plain',\n",
       " 'preset1',\n",
       " 'preset3',\n",
       " 'preset4']"
      ]
     },
     "execution_count": 7,
     "metadata": {},
     "output_type": "execute_result"
    }
   ],
   "source": [
    "dir(pp.presets)"
   ]
  },
  {
   "cell_type": "code",
   "execution_count": 8,
   "metadata": {},
   "outputs": [
    {
     "name": "stdout",
     "output_type": "stream",
     "text": [
      "\n",
      "measurement:\n",
      "- landmarks:\n",
      "    point_size: 25\n",
      "    point_col: green\n",
      "    label_size: 3\n",
      "    label_width: 5\n",
      "visualization:\n",
      "- show_landmarks:\n",
      "    point_size: 25\n",
      "    point_col: green\n",
      "    label_size: 3\n",
      "    label_width: 5\n",
      "export:\n",
      "- save_landmarks\n",
      "\n"
     ]
    }
   ],
   "source": [
    "print(pp.presets.landmarks_plain)"
   ]
  },
  {
   "cell_type": "markdown",
   "metadata": {},
   "source": [
    "For example, if we want to place landmarks, we can use one of the corresponding presets.  \n"
   ]
  },
  {
   "cell_type": "code",
   "execution_count": 9,
   "metadata": {},
   "outputs": [
    {
     "ename": "NameError",
     "evalue": "name 'myproj' is not defined",
     "output_type": "error",
     "traceback": [
      "\u001b[1;31m---------------------------------------------------------------------------\u001b[0m",
      "\u001b[1;31mNameError\u001b[0m                                 Traceback (most recent call last)",
      "\u001b[1;32m<ipython-input-9-b807c378d3a9>\u001b[0m in \u001b[0;36m<module>\u001b[1;34m\u001b[0m\n\u001b[1;32m----> 1\u001b[1;33m \u001b[0mmyproj\u001b[0m\u001b[1;33m.\u001b[0m\u001b[0madd_config\u001b[0m\u001b[1;33m(\u001b[0m\u001b[0mname\u001b[0m \u001b[1;33m=\u001b[0m \u001b[1;34m\"lm\"\u001b[0m\u001b[1;33m,\u001b[0m \u001b[0mconfig_preset\u001b[0m\u001b[1;33m=\u001b[0m\u001b[1;34m\"landmarks_plain\"\u001b[0m\u001b[1;33m)\u001b[0m\u001b[1;33m\u001b[0m\u001b[1;33m\u001b[0m\u001b[0m\n\u001b[0m",
      "\u001b[1;31mNameError\u001b[0m: name 'myproj' is not defined"
     ]
    }
   ],
   "source": [
    "myproj.add_config(name = \"lm\", config_preset=\"landmarks_plain\")"
   ]
  },
  {
   "cell_type": "markdown",
   "metadata": {},
   "source": [
    "Now all images folders contain a configuration file in *yaml*  format (see [Tutorial 2](tutorial_2_phenopype_workflow.ipynb#yaml-syntax) and the [resources section](resources.html) of the Documentation for details). "
   ]
  },
  {
   "cell_type": "markdown",
   "metadata": {},
   "source": [
    "An imporant feature of `add_config` is the opportunity to evulate and edit the template before it gets saved in the folders. This is done by setting the flag `interactive=True` in the arguments. For example, if we globally want to change point and label size of the landmark preset, we can do: \n",
    "\n",
    "<center>\n",
    "<div style=\"width:500px; text-align: left\" >\n",
    "    \n",
    "![Edit template](_assets/change_template.png)\n",
    "    \n",
    "Edit the templates before saving them to the image folders.\n",
    "    \n",
    "</div>\n",
    "</center>\n",
    "\n",
    "**NOTE 1:** The `pype` function opens a text editor and a python window. To modify the `pype` configuration templates, by default, the first image in your project directory tree will copied over to the phenopype project root directory. After the windows have opened they can be controlled as described as in [Tutorial 2](tutorial_2_phenopype_workflow.ipynb#pype-behavior).\n",
    "\n",
    "**NOTE 2:** If you have issues with this step, e.g. no text editor window is popping up, make sure you have set the default app for opening *yaml* files. Furthermore, consult the [installation instructions](installation.html#choose-a-text-editor) and check if your text editor is configured correctly. \n"
   ]
  },
  {
   "cell_type": "code",
   "execution_count": 10,
   "metadata": {},
   "outputs": [
    {
     "ename": "NameError",
     "evalue": "name 'myproj' is not defined",
     "output_type": "error",
     "traceback": [
      "\u001b[1;31m---------------------------------------------------------------------------\u001b[0m",
      "\u001b[1;31mNameError\u001b[0m                                 Traceback (most recent call last)",
      "\u001b[1;32m<ipython-input-10-8a954543c24f>\u001b[0m in \u001b[0;36m<module>\u001b[1;34m\u001b[0m\n\u001b[1;32m----> 1\u001b[1;33m myproj.add_config(name = \"lm\", \n\u001b[0m\u001b[0;32m      2\u001b[0m                   \u001b[0mconfig_preset\u001b[0m\u001b[1;33m=\u001b[0m\u001b[1;34m\"landmarks_plain\"\u001b[0m\u001b[1;33m,\u001b[0m\u001b[1;33m\u001b[0m\u001b[1;33m\u001b[0m\u001b[0m\n\u001b[0;32m      3\u001b[0m                   \u001b[0minteractive\u001b[0m\u001b[1;33m=\u001b[0m\u001b[1;32mTrue\u001b[0m\u001b[1;33m,\u001b[0m\u001b[1;33m\u001b[0m\u001b[1;33m\u001b[0m\u001b[0m\n\u001b[0;32m      4\u001b[0m                   \u001b[0moverwrite\u001b[0m\u001b[1;33m=\u001b[0m\u001b[1;32mTrue\u001b[0m                 \u001b[1;31m## needed because config with the name \"lm\" already exists in the folders\u001b[0m\u001b[1;33m\u001b[0m\u001b[1;33m\u001b[0m\u001b[0m\n\u001b[0;32m      5\u001b[0m                  )\n",
      "\u001b[1;31mNameError\u001b[0m: name 'myproj' is not defined"
     ]
    }
   ],
   "source": [
    "myproj.add_config(name = \"lm\", \n",
    "                  config_preset=\"landmarks_plain\",\n",
    "                  interactive=True,\n",
    "                  overwrite=True                 ## needed because config with the name \"lm\" already exists in the folders\n",
    "                 )"
   ]
  },
  {
   "cell_type": "code",
   "execution_count": 11,
   "metadata": {},
   "outputs": [
    {
     "name": "stdout",
     "output_type": "stream",
     "text": [
      "Help on function add_config in module phenopype.main:\n",
      "\n",
      "add_config(self, name, config_preset='preset1', interactive=False, overwrite=False, idx=0, **kwargs)\n",
      "    Add pype configuration presets to all image folders in the project, either by using\n",
      "    the templates included in the presets folder, or by adding your own templates\n",
      "    by providing a path to a yaml file. Can be tested and modified using the \n",
      "    interactive flag before distributing the config files.\n",
      "    \n",
      "    Parameters\n",
      "    ----------\n",
      "    \n",
      "    name: str\n",
      "        name of config-file. this gets appended to all files and serves as and\n",
      "        identifier of a specific analysis pipeline\n",
      "    preset: str, optional\n",
      "        can be either a string denoting a template name (e.g. preset1, preset2, \n",
      "        landamarking1, ... - in \"phenopype/settings/presets.py\") or a path to a \n",
      "        compatible yaml file\n",
      "    interactive: bool, optional\n",
      "        start a pype and modify preset before saving it to phenopype directories\n",
      "    overwrite: bool, optional\n",
      "        overwrite option, if a given pype config-file already exist\n",
      "    kwargs: \n",
      "        developer options\n",
      "\n"
     ]
    }
   ],
   "source": [
    "help(pp.project.add_config)"
   ]
  },
  {
   "cell_type": "markdown",
   "metadata": {},
   "source": [
    "## Saving and loading a project"
   ]
  },
  {
   "cell_type": "markdown",
   "metadata": {},
   "source": [
    "Project objects can be saved using a the static method `save` (static = unbound to any object). This will save the project data to the project's root directory. Currently, the only useful information stored in the project object is the list of all contained directories. Future releases will make more use of the project object. \n",
    "\n",
    "**NOTE:** `pp.project.save` saves ONLY the project data, all data collected with the pype method or any of the other workflows need to be saved inside the folders using the appropriate [export](api.html#export) functions."
   ]
  },
  {
   "cell_type": "code",
   "execution_count": 12,
   "metadata": {},
   "outputs": [
    {
     "ename": "NameError",
     "evalue": "name 'myproj' is not defined",
     "output_type": "error",
     "traceback": [
      "\u001b[1;31m---------------------------------------------------------------------------\u001b[0m",
      "\u001b[1;31mNameError\u001b[0m                                 Traceback (most recent call last)",
      "\u001b[1;32m<ipython-input-12-c7ed1fc8e314>\u001b[0m in \u001b[0;36m<module>\u001b[1;34m\u001b[0m\n\u001b[1;32m----> 1\u001b[1;33m \u001b[0mpp\u001b[0m\u001b[1;33m.\u001b[0m\u001b[0mproject\u001b[0m\u001b[1;33m.\u001b[0m\u001b[0msave\u001b[0m\u001b[1;33m(\u001b[0m\u001b[0mmyproj\u001b[0m\u001b[1;33m,\u001b[0m \u001b[0moverwrite\u001b[0m\u001b[1;33m=\u001b[0m\u001b[1;32mTrue\u001b[0m\u001b[1;33m)\u001b[0m\u001b[1;33m\u001b[0m\u001b[1;33m\u001b[0m\u001b[0m\n\u001b[0m",
      "\u001b[1;31mNameError\u001b[0m: name 'myproj' is not defined"
     ]
    }
   ],
   "source": [
    "pp.project.save(myproj, overwrite=True)"
   ]
  },
  {
   "cell_type": "markdown",
   "metadata": {},
   "source": [
    "To load the project again, add provide the path of the `project.data` file in the root folder to the `load` method:"
   ]
  },
  {
   "cell_type": "code",
   "execution_count": 13,
   "metadata": {},
   "outputs": [
    {
     "ename": "FileNotFoundError",
     "evalue": "[Errno 2] No such file or directory: '../_temp/my_project/phenopype_analysis/project.data'",
     "output_type": "error",
     "traceback": [
      "\u001b[1;31m---------------------------------------------------------------------------\u001b[0m",
      "\u001b[1;31mFileNotFoundError\u001b[0m                         Traceback (most recent call last)",
      "\u001b[1;32m<ipython-input-13-afcf469dfb73>\u001b[0m in \u001b[0;36m<module>\u001b[1;34m\u001b[0m\n\u001b[1;32m----> 1\u001b[1;33m \u001b[0mmyproj\u001b[0m \u001b[1;33m=\u001b[0m \u001b[0mpp\u001b[0m\u001b[1;33m.\u001b[0m\u001b[0mproject\u001b[0m\u001b[1;33m.\u001b[0m\u001b[0mload\u001b[0m\u001b[1;33m(\u001b[0m\u001b[1;34mr\"../_temp/my_project/phenopype_analysis/project.data\"\u001b[0m\u001b[1;33m)\u001b[0m\u001b[1;33m\u001b[0m\u001b[1;33m\u001b[0m\u001b[0m\n\u001b[0m",
      "\u001b[1;32me:\\git_repos\\phenopype\\phenopype\\main.py\u001b[0m in \u001b[0;36mload\u001b[1;34m(path)\u001b[0m\n\u001b[0;32m    480\u001b[0m             \u001b[0mpath\u001b[0m \u001b[0mto\u001b[0m \u001b[0mproject\u001b[0m\u001b[1;33m.\u001b[0m\u001b[0mdata\u001b[0m\u001b[1;33m,\u001b[0m \u001b[0mloads\u001b[0m \u001b[0mproject\u001b[0m \u001b[0mfile\u001b[0m \u001b[0msaved\u001b[0m \u001b[0mto\u001b[0m \u001b[0mroot\u001b[0m \u001b[0mdir\u001b[0m \u001b[0mof\u001b[0m \u001b[0mproject\u001b[0m\u001b[1;33m\u001b[0m\u001b[1;33m\u001b[0m\u001b[0m\n\u001b[0;32m    481\u001b[0m         \"\"\"\n\u001b[1;32m--> 482\u001b[1;33m         \u001b[1;32mwith\u001b[0m \u001b[0mopen\u001b[0m\u001b[1;33m(\u001b[0m\u001b[0mpath\u001b[0m\u001b[1;33m,\u001b[0m \u001b[1;34m'rb'\u001b[0m\u001b[1;33m)\u001b[0m \u001b[1;32mas\u001b[0m \u001b[0moutput\u001b[0m\u001b[1;33m:\u001b[0m\u001b[1;33m\u001b[0m\u001b[1;33m\u001b[0m\u001b[0m\n\u001b[0m\u001b[0;32m    483\u001b[0m             \u001b[1;32mreturn\u001b[0m \u001b[0mpickle\u001b[0m\u001b[1;33m.\u001b[0m\u001b[0mload\u001b[0m\u001b[1;33m(\u001b[0m\u001b[0moutput\u001b[0m\u001b[1;33m)\u001b[0m\u001b[1;33m\u001b[0m\u001b[1;33m\u001b[0m\u001b[0m\n\u001b[0;32m    484\u001b[0m \u001b[1;33m\u001b[0m\u001b[0m\n",
      "\u001b[1;31mFileNotFoundError\u001b[0m: [Errno 2] No such file or directory: '../_temp/my_project/phenopype_analysis/project.data'"
     ]
    }
   ],
   "source": [
    "myproj = pp.project.load(r\"../_temp/my_project/phenopype_analysis/project.data\")"
   ]
  },
  {
   "cell_type": "markdown",
   "metadata": {},
   "source": [
    "## Applying the pype to project folders"
   ]
  },
  {
   "cell_type": "markdown",
   "metadata": {},
   "source": [
    "<center>\n",
    "<div style=\"width:800px; text-align: left\" >\n",
    "    \n",
    "![Step 3](_assets/workflow_high_step3.png)\n",
    "    \n",
    "**Step. 3**: Apply `pype` function image by image.\n",
    "    \n",
    "</div>\n",
    "</center>"
   ]
  },
  {
   "cell_type": "markdown",
   "metadata": {},
   "source": [
    "After adding images and configuration, all is set to process your dataset with high throughput. Using a simple `for` loop, we go through all directories one by one. You can modify the configuration file and controll the window as described as in [Tutorial 2](tutorial_2_phenopype_workflow.ipynb#yaml-syntax). The `skip` argument will allow to skip files with a given config name you have already analyzed. This allows you to return to the point where you left off.\n",
    "\n",
    "**NOTE 1:** Make sure to specifiy the name of the config file you added before, in this case, \"lm\". The config file name serves multiple purposes: on the one hand it tells the `pype` function which configuration to load, if you have multiple in one directory. On the other hand, the name gets appended to all results files that are produced by this constellation.  \n",
    "\n",
    "**NOTE 2:** Consult [Tutorial 2](tutorial_2_phenopype_workflow.ipynb#pype-behavior) to understand `pype` behavior. For example, the `pype` will automatically save all collected data, and by default overwrite any existing results files, but the latter only if indicated in the config file.   "
   ]
  },
  {
   "cell_type": "code",
   "execution_count": 14,
   "metadata": {},
   "outputs": [
    {
     "ename": "NameError",
     "evalue": "name 'myproj' is not defined",
     "output_type": "error",
     "traceback": [
      "\u001b[1;31m---------------------------------------------------------------------------\u001b[0m",
      "\u001b[1;31mNameError\u001b[0m                                 Traceback (most recent call last)",
      "\u001b[1;32m<ipython-input-14-76e7e47fd9dd>\u001b[0m in \u001b[0;36m<module>\u001b[1;34m\u001b[0m\n\u001b[1;32m----> 1\u001b[1;33m \u001b[1;32mfor\u001b[0m \u001b[0mimg\u001b[0m \u001b[1;32min\u001b[0m \u001b[0mmyproj\u001b[0m\u001b[1;33m.\u001b[0m\u001b[0mdirpaths\u001b[0m\u001b[1;33m:\u001b[0m\u001b[1;33m\u001b[0m\u001b[1;33m\u001b[0m\u001b[0m\n\u001b[0m\u001b[0;32m      2\u001b[0m     pp.pype(img, \n\u001b[0;32m      3\u001b[0m             \u001b[0mname\u001b[0m\u001b[1;33m=\u001b[0m\u001b[1;34m\"lm\"\u001b[0m\u001b[1;33m,\u001b[0m         \u001b[1;31m## loads the config file \"pype_config_lm.yaml\". \"lm\" gets appended to all results files\u001b[0m\u001b[1;33m\u001b[0m\u001b[1;33m\u001b[0m\u001b[0m\n\u001b[0;32m      4\u001b[0m             \u001b[0mskip\u001b[0m\u001b[1;33m=\u001b[0m\u001b[1;32mTrue\u001b[0m          \u001b[1;31m## skip=True will skip over any directories that already contain results files with \"lm\"\u001b[0m\u001b[1;33m\u001b[0m\u001b[1;33m\u001b[0m\u001b[0m\n\u001b[0;32m      5\u001b[0m            )\n",
      "\u001b[1;31mNameError\u001b[0m: name 'myproj' is not defined"
     ]
    }
   ],
   "source": [
    "for img in myproj.dirpaths:\n",
    "    pp.pype(img, \n",
    "            name=\"lm\",         ## loads the config file \"pype_config_lm.yaml\". \"lm\" gets appended to all results files\n",
    "            skip=True          ## skip=True will skip over any directories that already contain results files with \"lm\"\n",
    "           )"
   ]
  },
  {
   "cell_type": "markdown",
   "metadata": {},
   "source": [
    "<center>\n",
    "<div style=\"width:500px; text-align: left\" >\n",
    "    \n",
    "![Step 4](_assets/workflow_high_step4.png)\n",
    "    \n",
    "**Step. 4**: Each folder contains all information necessary to reproduce the collected phenopytic data. Ouput from different `pype` runs can be stored side by side in the same folders. \n",
    "    \n",
    "</div>\n",
    "</center>"
   ]
  },
  {
   "cell_type": "markdown",
   "metadata": {},
   "source": [
    "As mentioned above, it's possible to have multiple configuration files side by side in phenopype folders. For example, if we want to implement an alternative set of landmarks, we can simply do:"
   ]
  },
  {
   "cell_type": "code",
   "execution_count": 15,
   "metadata": {},
   "outputs": [
    {
     "ename": "NameError",
     "evalue": "name 'myproj' is not defined",
     "output_type": "error",
     "traceback": [
      "\u001b[1;31m---------------------------------------------------------------------------\u001b[0m",
      "\u001b[1;31mNameError\u001b[0m                                 Traceback (most recent call last)",
      "\u001b[1;32m<ipython-input-15-ac69b4af8596>\u001b[0m in \u001b[0;36m<module>\u001b[1;34m\u001b[0m\n\u001b[1;32m----> 1\u001b[1;33m myproj.add_config(name = \"lm2\",                  ## add different name (my not contain underscores or other special characters)\n\u001b[0m\u001b[0;32m      2\u001b[0m                   \u001b[0mconfig_preset\u001b[0m\u001b[1;33m=\u001b[0m\u001b[1;34m\"landmarks_plain\"\u001b[0m    \u001b[1;31m## same preset\u001b[0m\u001b[1;33m\u001b[0m\u001b[1;33m\u001b[0m\u001b[0m\n\u001b[0;32m      3\u001b[0m                  )\n",
      "\u001b[1;31mNameError\u001b[0m: name 'myproj' is not defined"
     ]
    }
   ],
   "source": [
    "myproj.add_config(name = \"lm2\",                  ## add different name (my not contain underscores or other special characters)\n",
    "                  config_preset=\"landmarks_plain\"    ## same preset\n",
    "                 )"
   ]
  },
  {
   "cell_type": "code",
   "execution_count": 16,
   "metadata": {},
   "outputs": [
    {
     "ename": "NameError",
     "evalue": "name 'myproj' is not defined",
     "output_type": "error",
     "traceback": [
      "\u001b[1;31m---------------------------------------------------------------------------\u001b[0m",
      "\u001b[1;31mNameError\u001b[0m                                 Traceback (most recent call last)",
      "\u001b[1;32m<ipython-input-16-603e1c61ff0b>\u001b[0m in \u001b[0;36m<module>\u001b[1;34m\u001b[0m\n\u001b[1;32m----> 1\u001b[1;33m \u001b[1;32mfor\u001b[0m \u001b[0mimg\u001b[0m \u001b[1;32min\u001b[0m \u001b[0mmyproj\u001b[0m\u001b[1;33m.\u001b[0m\u001b[0mdirpaths\u001b[0m\u001b[1;33m:\u001b[0m\u001b[1;33m\u001b[0m\u001b[1;33m\u001b[0m\u001b[0m\n\u001b[0m\u001b[0;32m      2\u001b[0m     pp.pype(img, \n\u001b[0;32m      3\u001b[0m             \u001b[0mname\u001b[0m\u001b[1;33m=\u001b[0m\u001b[1;34m\"lm2\"\u001b[0m\u001b[1;33m,\u001b[0m         \u001b[1;31m## loads the config file \"pype_config_lm2.yaml\". \"lm2\" gets appended to all results files\u001b[0m\u001b[1;33m\u001b[0m\u001b[1;33m\u001b[0m\u001b[0m\n\u001b[0;32m      4\u001b[0m             \u001b[0mskip\u001b[0m\u001b[1;33m=\u001b[0m\u001b[1;32mTrue\u001b[0m          \u001b[1;31m## skip=True will skip over any directories that already contain results files with \"lm2\"\u001b[0m\u001b[1;33m\u001b[0m\u001b[1;33m\u001b[0m\u001b[0m\n\u001b[0;32m      5\u001b[0m            )\n",
      "\u001b[1;31mNameError\u001b[0m: name 'myproj' is not defined"
     ]
    }
   ],
   "source": [
    "for img in myproj.dirpaths:\n",
    "    pp.pype(img, \n",
    "            name=\"lm2\",         ## loads the config file \"pype_config_lm2.yaml\". \"lm2\" gets appended to all results files\n",
    "            skip=True          ## skip=True will skip over any directories that already contain results files with \"lm2\"\n",
    "           )"
   ]
  },
  {
   "cell_type": "code",
   "execution_count": 17,
   "metadata": {},
   "outputs": [
    {
     "ename": "FileNotFoundError",
     "evalue": "[WinError 3] The system cannot find the path specified: '../_temp/my_project/phenopype_analysis\\\\data\\\\0__stickle1'",
     "output_type": "error",
     "traceback": [
      "\u001b[1;31m---------------------------------------------------------------------------\u001b[0m",
      "\u001b[1;31mFileNotFoundError\u001b[0m                         Traceback (most recent call last)",
      "\u001b[1;32m<ipython-input-17-35202c78df28>\u001b[0m in \u001b[0;36m<module>\u001b[1;34m\u001b[0m\n\u001b[1;32m----> 1\u001b[1;33m \u001b[0mos\u001b[0m\u001b[1;33m.\u001b[0m\u001b[0mlistdir\u001b[0m\u001b[1;33m(\u001b[0m\u001b[1;34mr\"../_temp/my_project/phenopype_analysis\\data\\0__stickle1\"\u001b[0m\u001b[1;33m)\u001b[0m\u001b[1;33m\u001b[0m\u001b[1;33m\u001b[0m\u001b[0m\n\u001b[0m",
      "\u001b[1;31mFileNotFoundError\u001b[0m: [WinError 3] The system cannot find the path specified: '../_temp/my_project/phenopype_analysis\\\\data\\\\0__stickle1'"
     ]
    }
   ],
   "source": [
    "os.listdir(r\"../_temp/my_project/phenopype_analysis\\data\\0__stickle1\")"
   ]
  },
  {
   "cell_type": "code",
   "execution_count": null,
   "metadata": {},
   "outputs": [],
   "source": []
  }
 ],
 "metadata": {
  "kernelspec": {
   "display_name": "Python 3",
   "language": "python",
   "name": "python3"
  },
  "language_info": {
   "codemirror_mode": {
    "name": "ipython",
    "version": 3
   },
   "file_extension": ".py",
   "mimetype": "text/x-python",
   "name": "python",
   "nbconvert_exporter": "python",
   "pygments_lexer": "ipython3",
   "version": "3.7.5"
  }
 },
 "nbformat": 4,
 "nbformat_minor": 2
}
