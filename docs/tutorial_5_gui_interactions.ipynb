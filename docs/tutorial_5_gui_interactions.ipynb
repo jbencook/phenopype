{
 "cells": [
  {
   "cell_type": "markdown",
   "metadata": {},
   "source": [
    "# Tutorial 5: GUI interactions (masks, lines and drawing tools)\n",
    "\n",
    "Phenopype uses OpenCV's [High GUI module](https://docs.opencv.org/3.4/d7/dfc/group__highgui.html) to display images and to allow users to interact with images. High GUI has a few pros and cons: \n",
    "\n",
    "```\n",
    "+ native OpenCV GUI (no extra GUI libraries required)\n",
    "+ the module is extremely fast in displaying images \n",
    "+ it can display very large image-arrays (> 10000x10000 pixels)\n",
    "+ it can display multiple images side by side\n",
    "+ interactions (drawing and measuring) are possible \n",
    "\n",
    "- sometimes unstable (e.g. windows are not closed but freeze)\n",
    "- issues with cross plattform stability (e.g. on macOS)\n",
    "- displaying instructions is hacky (text is \"painted\" onto a displayed image) \n",
    "- user input (key strokes and mouse clicks) sometimes isn't captured properly\n",
    "```\n",
    "\n",
    "Currently Phenopype uses the standard GUI libraries that ship with the most recent precompiled `opencv-contrib-python` that are listed on the [Python package index](https://pypi.org/project/opencv-python/), which is `Qt` for Linux and macOS, and `Win32 UI` on Windows. The `Qt` GUI is a bit more userfriendly with builtin buttons, scrollbars, RGB info and zoom ([see the OpenCV docs](https://docs.opencv.org/master/dc/d46/group__highgui__qt.html)), but you don't actually need those things for Phenopype GUI interactions. "
   ]
  },
  {
   "cell_type": "code",
   "execution_count": 2,
   "metadata": {},
   "outputs": [],
   "source": [
    "import phenopype as pp\n",
    "import os"
   ]
  },
  {
   "cell_type": "markdown",
   "metadata": {},
   "source": [
    "## Show images\n",
    "\n",
    "To show an image, it first has to be loaded as an array using `load_image`. The array can then be passed on to `show_image`, which simply displays an image (no interactions, except zooming in using the mousewheel)."
   ]
  },
  {
   "cell_type": "code",
   "execution_count": 3,
   "metadata": {},
   "outputs": [],
   "source": [
    "img = pp.load_image(\"images/stickle1.jpg\") \n",
    "pp.show_image(img,\n",
    "              window_aspect=\"free\" # resize the window\n",
    "             )"
   ]
  },
  {
   "cell_type": "markdown",
   "metadata": {},
   "source": [
    "However, `show_image` can also handle multiple arrays. Here we loop through the *images* folder, attach all images to a list, and pass that list of arrays to the functions - it will give a warning if more than 10 images are being opened at the same time. "
   ]
  },
  {
   "cell_type": "code",
   "execution_count": 4,
   "metadata": {},
   "outputs": [
    {
     "name": "stdout",
     "output_type": "stream",
     "text": [
      "could not load file of type .mp4: isopods_fish.mp4\n",
      "WARNING: trying to open 11 images - proceed (y/n)?y\n",
      "Proceed - Opening images ...\n",
      "skipped showing list item of type NoneType\n"
     ]
    }
   ],
   "source": [
    "img_list = []\n",
    "for i in os.listdir(\"images\"):\n",
    "    img = pp.load_image(os.path.join(\"images\",i))\n",
    "    img_list.append(img)\n",
    "pp.show_image(img_list)"
   ]
  },
  {
   "cell_type": "markdown",
   "metadata": {},
   "source": [
    "The function has a few more options: "
   ]
  },
  {
   "cell_type": "code",
   "execution_count": 5,
   "metadata": {},
   "outputs": [
    {
     "name": "stdout",
     "output_type": "stream",
     "text": [
      "skipped showing list item of type NoneType\n"
     ]
    }
   ],
   "source": [
    "pp.show_image(img_list, \n",
    "              max_dim=250,           # maximu dimension (in either direction) for the windows\n",
    "              check=False,           # don't issue warning if more than 10 images are opened\n",
    "              position_offset=50,    # window offset if multiple windows are displayed\n",
    "              position_reset=False)  # don't reset position of windows (i.e. window position will be remembered)"
   ]
  },
  {
   "cell_type": "markdown",
   "metadata": {},
   "source": [
    "## Create masks\n",
    "\n",
    "## Draw lines\n",
    "\n",
    "## Data entry"
   ]
  }
 ],
 "metadata": {
  "kernelspec": {
   "display_name": "Python 3",
   "language": "python",
   "name": "python3"
  },
  "language_info": {
   "codemirror_mode": {
    "name": "ipython",
    "version": 3
   },
   "file_extension": ".py",
   "mimetype": "text/x-python",
   "name": "python",
   "nbconvert_exporter": "python",
   "pygments_lexer": "ipython3",
   "version": "3.7.5"
  }
 },
 "nbformat": 4,
 "nbformat_minor": 4
}
