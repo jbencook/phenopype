{
 "cells": [
  {
   "cell_type": "markdown",
   "metadata": {},
   "source": [
    "# Tutorial 1: A (very) brief python introduction\n",
    "\n",
    "This notebook is meant to provide a very short overview of the basic python syntax needed for basic phenopype operability. This is useful if you have never used python before, but would like to be able to explore phenopype functionality on your own.\n",
    "\n",
    "Additionally, if you are new to programming alltogether, you could have a look at this tutorial https://www.learnpython.org/ or find this reference useful https://docs.python.org/3/tutorial/. \n",
    "\n",
    "If you are familiar with python, you probably want to skip ahead to [Tutorial 2: Working with phenopype](tutorial_2_phenopype_workflow.ipynb)."
   ]
  },
  {
   "cell_type": "markdown",
   "metadata": {},
   "source": [
    "## Python modules <a name=\"modules\"></a>\n",
    " At the beginning of our skript we import the python modules that we want to work with using `import`. When we import the module, we can call its methods and functions using what comes after `import`. In this case, these \"bindings\" are simply `os`. "
   ]
  },
  {
   "cell_type": "code",
   "execution_count": 46,
   "metadata": {},
   "outputs": [],
   "source": [
    "import os"
   ]
  },
  {
   "cell_type": "markdown",
   "metadata": {},
   "source": [
    "We can inspect all the components  of this module (i.e., its \"namespace\") by using `dir()`: https://docs.python.org/3/library/functions.html?highlight=dir#dir). We can see that `os` is a comprehensive package with a lots of classes and functions:"
   ]
  },
  {
   "cell_type": "code",
   "execution_count": 13,
   "metadata": {},
   "outputs": [
    {
     "name": "stdout",
     "output_type": "stream",
     "text": [
      "['DirEntry', 'F_OK', 'MutableMapping', 'O_APPEND', 'O_BINARY', 'O_CREAT', 'O_EXCL', 'O_NOINHERIT', 'O_RANDOM', 'O_RDONLY', 'O_RDWR', 'O_SEQUENTIAL', 'O_SHORT_LIVED', 'O_TEMPORARY', 'O_TEXT', 'O_TRUNC', 'O_WRONLY', 'P_DETACH', 'P_NOWAIT', 'P_NOWAITO', 'P_OVERLAY', 'P_WAIT', 'PathLike', 'R_OK', 'SEEK_CUR', 'SEEK_END', 'SEEK_SET', 'TMP_MAX', 'W_OK', 'X_OK', '_Environ', '__all__', '__builtins__', '__cached__', '__doc__', '__file__', '__loader__', '__name__', '__package__', '__spec__', '_execvpe', '_exists', '_exit', '_fspath', '_get_exports_list', '_putenv', '_unsetenv', '_wrap_close', 'abc', 'abort', 'access', 'altsep', 'chdir', 'chmod', 'close', 'closerange', 'cpu_count', 'curdir', 'defpath', 'device_encoding', 'devnull', 'dup', 'dup2', 'environ', 'error', 'execl', 'execle', 'execlp', 'execlpe', 'execv', 'execve', 'execvp', 'execvpe', 'extsep', 'fdopen', 'fsdecode', 'fsencode', 'fspath', 'fstat', 'fsync', 'ftruncate', 'get_exec_path', 'get_handle_inheritable', 'get_inheritable', 'get_terminal_size', 'getcwd', 'getcwdb', 'getenv', 'getlogin', 'getpid', 'getppid', 'isatty', 'kill', 'linesep', 'link', 'listdir', 'lseek', 'lstat', 'makedirs', 'mkdir', 'name', 'open', 'pardir', 'path', 'pathsep', 'pipe', 'popen', 'putenv', 'read', 'readlink', 'remove', 'removedirs', 'rename', 'renames', 'replace', 'rmdir', 'scandir', 'sep', 'set_handle_inheritable', 'set_inheritable', 'spawnl', 'spawnle', 'spawnv', 'spawnve', 'st', 'startfile', 'stat', 'stat_result', 'statvfs_result', 'strerror', 'supports_bytes_environ', 'supports_dir_fd', 'supports_effective_ids', 'supports_fd', 'supports_follow_symlinks', 'symlink', 'sys', 'system', 'terminal_size', 'times', 'times_result', 'truncate', 'umask', 'uname_result', 'unlink', 'urandom', 'utime', 'waitpid', 'walk', 'write']\n"
     ]
    }
   ],
   "source": [
    "print(dir(os))"
   ]
  },
  {
   "cell_type": "markdown",
   "metadata": {},
   "source": [
    "The double underscores (\"dunders\") before and after the numeric string indicate that these are \"special\" names reserved for the python namespace (https://dbader.org/blog/meaning-of-underscores-in-python). We cannot tell what type of object is behind each name, e.g., whether it's a function (like `open`) or a submodule, with a set of functions (like `path`). Higher level functions are accessed from the package namespace by joining the module name `os` with the function `open`, connected by a dot. "
   ]
  },
  {
   "cell_type": "markdown",
   "metadata": {},
   "source": [
    "If you are ever unsure about what a package does,  simply call `help(os)` (or any other package) to get some basic information. This also works for its methods and functions, e.g. for the `open` method:"
   ]
  },
  {
   "cell_type": "code",
   "execution_count": 58,
   "metadata": {},
   "outputs": [
    {
     "name": "stdout",
     "output_type": "stream",
     "text": [
      "Help on built-in function open in module nt:\n",
      "\n",
      "open(path, flags, mode=511, *, dir_fd=None)\n",
      "    Open a file for low level IO.  Returns a file descriptor (integer).\n",
      "    \n",
      "    If dir_fd is not None, it should be a file descriptor open to a directory,\n",
      "      and path should be relative; path will then be relative to that directory.\n",
      "    dir_fd may not be implemented on your platform.\n",
      "      If it is unavailable, using it will raise a NotImplementedError.\n",
      "\n"
     ]
    }
   ],
   "source": [
    "help(os.open)"
   ]
  },
  {
   "cell_type": "markdown",
   "metadata": {},
   "source": [
    "`path` on the other hand is a submodule: here we see some functions we can use (they don't have dunders), for example `join`, which can join separate character strings to a python-readable path string."
   ]
  },
  {
   "cell_type": "code",
   "execution_count": 59,
   "metadata": {},
   "outputs": [
    {
     "name": "stdout",
     "output_type": "stream",
     "text": [
      "['__all__', '__builtins__', '__cached__', '__doc__', '__file__', '__loader__', '__name__', '__package__', '__spec__', '_abspath_fallback', '_get_bothseps', '_getfinalpathname', '_getfullpathname', '_getvolumepathname', 'abspath', 'altsep', 'basename', 'commonpath', 'commonprefix', 'curdir', 'defpath', 'devnull', 'dirname', 'exists', 'expanduser', 'expandvars', 'extsep', 'genericpath', 'getatime', 'getctime', 'getmtime', 'getsize', 'isabs', 'isdir', 'isfile', 'islink', 'ismount', 'join', 'lexists', 'normcase', 'normpath', 'os', 'pardir', 'pathsep', 'realpath', 'relpath', 'samefile', 'sameopenfile', 'samestat', 'sep', 'split', 'splitdrive', 'splitext', 'stat', 'supports_unicode_filenames', 'sys']\n"
     ]
    }
   ],
   "source": [
    "print(dir(os.path))"
   ]
  },
  {
   "cell_type": "code",
   "execution_count": 60,
   "metadata": {},
   "outputs": [
    {
     "name": "stdout",
     "output_type": "stream",
     "text": [
      "Help on function join in module ntpath:\n",
      "\n",
      "join(path, *paths)\n",
      "    # Join two (or more) paths.\n",
      "\n"
     ]
    }
   ],
   "source": [
    "help(os.path.join)"
   ]
  },
  {
   "cell_type": "markdown",
   "metadata": {},
   "source": [
    "## Paths and directories <a name=\"paths\"></a>\n",
    "\n",
    "Time to actually do something with a function. A useful function from the `os` module is `listdir`, which will list all files in a specified directory. If you don't specify any directory, it will use the current directory"
   ]
  },
  {
   "cell_type": "code",
   "execution_count": 17,
   "metadata": {},
   "outputs": [
    {
     "data": {
      "text/plain": [
       "['.ipynb_checkpoints',\n",
       " 'example_1_detect_objects.ipynb',\n",
       " 'example_2_basic_gui_interactions.ipynb',\n",
       " 'example_3_landmarks.ipynb',\n",
       " 'example_4_shape_measurement.ipynb',\n",
       " 'tutorial_0.rst',\n",
       " 'tutorial_1_python_intro.ipynb',\n",
       " 'tutorial_2_phenopype_workflow.ipynb',\n",
       " 'tutorial_3_managing_projects.ipynb',\n",
       " 'tutorial_4_setting_global_scale.ipynb',\n",
       " 'tutorial_5_video_analysis.ipynb']"
      ]
     },
     "execution_count": 17,
     "metadata": {},
     "output_type": "execute_result"
    }
   ],
   "source": [
    "os.listdir()"
   ]
  },
  {
   "cell_type": "code",
   "execution_count": 18,
   "metadata": {},
   "outputs": [
    {
     "data": {
      "text/plain": [
       "['isopods.jpg',\n",
       " 'phytoplankton.jpg',\n",
       " 'snail.jpg',\n",
       " 'stickleback_side.jpg',\n",
       " 'stickleback_side_plates.jpg',\n",
       " 'stickleback_top.jpg']"
      ]
     },
     "execution_count": 18,
     "metadata": {},
     "output_type": "execute_result"
    }
   ],
   "source": [
    "os.listdir(\"../assets/images\")"
   ]
  },
  {
   "cell_type": "markdown",
   "metadata": {},
   "source": [
    "Note that I used the relative path here - full paths of course are also possible. To check where you are, you can use `getcwd` (getCurrentWorkingDirectory):"
   ]
  },
  {
   "cell_type": "code",
   "execution_count": 19,
   "metadata": {},
   "outputs": [
    {
     "data": {
      "text/plain": [
       "'E:\\\\git_repos\\\\phenopype\\\\tutorials'"
      ]
     },
     "execution_count": 19,
     "metadata": {},
     "output_type": "execute_result"
    }
   ],
   "source": [
    "os.getcwd()"
   ]
  },
  {
   "cell_type": "markdown",
   "metadata": {},
   "source": [
    "`listdir`, as the name suggest, creates a list. The list can be accessed with squarebrackets and by giving the position inside you want to have returned. \n",
    "\n",
    "**IMPORTANT:** \n",
    "\n",
    "In python, referencing starts with `0` and not with `1`, as in R for example."
   ]
  },
  {
   "cell_type": "code",
   "execution_count": 29,
   "metadata": {},
   "outputs": [
    {
     "name": "stdout",
     "output_type": "stream",
     "text": [
      "['isopods.jpg', 'phytoplankton.jpg', 'snail.jpg', 'stickleback_side.jpg', 'stickleback_side_plates.jpg', 'stickleback_top.jpg']\n",
      "isopods.jpg\n"
     ]
    }
   ],
   "source": [
    "image_dir = \"../assets/images\"\n",
    "image_list = os.listdir(image_dir)\n",
    "print(image_list)\n",
    "print(image_list[0])"
   ]
  },
  {
   "cell_type": "markdown",
   "metadata": {},
   "source": [
    "So far we have only returned name-strings of our files, but unless our current working directory is the same as the target directory (or we have added it to the `PYTHONPATH`), we need the full or relative path of our files. We can get it using the `path` submodule. Getting the absolute path of a file is usually a two-part coding step: joining the directory path and the names of files within it. The joining operation is done with `join`:"
   ]
  },
  {
   "cell_type": "markdown",
   "metadata": {},
   "source": [
    "Although you can join path strings by simply adding them, this sometimes leads to unexpected results, so better try to avoid it:"
   ]
  },
  {
   "cell_type": "code",
   "execution_count": 30,
   "metadata": {},
   "outputs": [
    {
     "data": {
      "text/plain": [
       "'../assets/imagesisopods.jpg'"
      ]
     },
     "execution_count": 30,
     "metadata": {},
     "output_type": "execute_result"
    }
   ],
   "source": [
    "image_dir + image_list[0] # doesn't work"
   ]
  },
  {
   "cell_type": "code",
   "execution_count": 32,
   "metadata": {},
   "outputs": [
    {
     "data": {
      "text/plain": [
       "'../assets/images\\\\images'"
      ]
     },
     "execution_count": 32,
     "metadata": {},
     "output_type": "execute_result"
    }
   ],
   "source": [
    "os.path.join(image_dir, \"images\") # works"
   ]
  },
  {
   "cell_type": "markdown",
   "metadata": {},
   "source": [
    "Putting it all together, let's try to get the path of all the images in our directory. For this, we need a `for` loop, and an empty list we can populate:"
   ]
  },
  {
   "cell_type": "code",
   "execution_count": 33,
   "metadata": {},
   "outputs": [
    {
     "data": {
      "text/plain": [
       "['../assets/images\\\\isopods.jpg',\n",
       " '../assets/images\\\\phytoplankton.jpg',\n",
       " '../assets/images\\\\snail.jpg',\n",
       " '../assets/images\\\\stickleback_side.jpg',\n",
       " '../assets/images\\\\stickleback_side_plates.jpg',\n",
       " '../assets/images\\\\stickleback_top.jpg']"
      ]
     },
     "execution_count": 33,
     "metadata": {},
     "output_type": "execute_result"
    }
   ],
   "source": [
    "filepaths = [] # square-brakets make an empty list\n",
    "names = os.listdir(image_dir) # making a list of all the files names inside a directory\n",
    "\n",
    "for i in names: # looping along our list of names\n",
    "    filepath = os.path.join(image_dir, i) # joining name and path strings \n",
    "    filepaths.append(filepath) # appending the joint string to the list\n",
    "    \n",
    "filepaths # showing the list content\n"
   ]
  },
  {
   "cell_type": "markdown",
   "metadata": {},
   "source": [
    "## Images in python <a name=\"images\"></a>\n",
    "Let's import another module. In fact _the_ module that phenopype is built around: `opencv` (https://opencv.org/). Note: sometimes the modules are called differently than their bindings in python, e.g., for opencv, we have to call `cv2`. Once imported, we then can use a basic opencv function: importing an image as an array using `imread`."
   ]
  },
  {
   "cell_type": "code",
   "execution_count": 44,
   "metadata": {},
   "outputs": [],
   "source": [
    "import cv2\n",
    "img = cv2.imread(filepaths[0])"
   ]
  },
  {
   "cell_type": "markdown",
   "metadata": {},
   "source": [
    "About digital images: `cv2.imread` converts a digital image file to an array, a stack of three matrices containing pixel wise information on the red, green and blue channel of an image, which - taken together - creates the colour image. To learn more about images and computer vision, check the \n"
   ]
  },
  {
   "cell_type": "markdown",
   "metadata": {},
   "source": [
    "Lets examine our image. It is not informative neither possible to look at the whole matrix of pixel values inside the console, but sometimes it is useful to look at specific features of your image, which we can acess directly from the image-object. For example, the dimensions, using `shape`:"
   ]
  },
  {
   "cell_type": "code",
   "execution_count": 35,
   "metadata": {},
   "outputs": [
    {
     "data": {
      "text/plain": [
       "(1421, 2090, 3)"
      ]
     },
     "execution_count": 35,
     "metadata": {},
     "output_type": "execute_result"
    }
   ],
   "source": [
    "img.shape"
   ]
  },
  {
   "cell_type": "markdown",
   "metadata": {},
   "source": [
    "Or the mean pixel intensity:"
   ]
  },
  {
   "cell_type": "code",
   "execution_count": 61,
   "metadata": {},
   "outputs": [
    {
     "data": {
      "text/plain": [
       "160.3892609608672"
      ]
     },
     "execution_count": 61,
     "metadata": {},
     "output_type": "execute_result"
    }
   ],
   "source": [
    "img.mean()"
   ]
  },
  {
   "cell_type": "markdown",
   "metadata": {},
   "source": [
    "We can look at the picture with `imshow`. However, because many `opencv` functions are  GUI based, we need to add some more controller functions so we can control it (read more about GUIs in `opencv` here: https://docs.opencv.org/3.4/dc/d2e/tutorial_py_image_display.html)."
   ]
  },
  {
   "cell_type": "code",
   "execution_count": 62,
   "metadata": {},
   "outputs": [],
   "source": [
    "cv2.namedWindow('image', cv2.WINDOW_NORMAL) # open a resizable window\n",
    "cv2.imshow('image',img) # show the image in that window\n",
    "cv2.waitKey(0) # do nothing until a keystroke ...\n",
    "cv2.destroyAllWindows() # ... and then close all open windows"
   ]
  },
  {
   "cell_type": "code",
   "execution_count": null,
   "metadata": {},
   "outputs": [],
   "source": []
  }
 ],
 "metadata": {
  "kernelspec": {
   "display_name": "Python 3",
   "language": "python",
   "name": "python3"
  },
  "language_info": {
   "codemirror_mode": {
    "name": "ipython",
    "version": 3
   },
   "file_extension": ".py",
   "mimetype": "text/x-python",
   "name": "python",
   "nbconvert_exporter": "python",
   "pygments_lexer": "ipython3",
   "version": "3.7.5"
  }
 },
 "nbformat": 4,
 "nbformat_minor": 2
}
