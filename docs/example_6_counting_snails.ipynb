{
 "cells": [
  {
   "cell_type": "markdown",
   "metadata": {},
   "source": [
    "# Example 6: Counting and measuring freshwater snails\n",
    "\n",
    "In this example we will use thresholding and watershed algorithms to count freshwater snails."
   ]
  },
  {
   "cell_type": "markdown",
   "metadata": {},
   "source": [
    "<div class=\"row; text-align: left\">\n",
    "    \n",
    "<div class=\"col-md-6\">\n",
    "    \n",
    "![Before](_assets/ex6_before.jpg)\n",
    "    \n",
    "**Input** - Snails photographed from a camera stand. Variable brightness across the tray and snail clumping are the biggest challenges.\n",
    "</div>\n",
    "<div class=\"col-md-6\">\n",
    "\n",
    "![After](_assets/ex6_after.jpg)\n",
    "    \n",
    "**Results** - After applying adaptive thresholding and a watershed algorithm, the snail separate well from the background. Now we can count them, and measure size, shape and colouration\n",
    "</div>\n",
    "</div>\n"
   ]
  },
  {
   "cell_type": "markdown",
   "metadata": {},
   "source": [
    "## Low throughput\n",
    "\n",
    "First, we test a single image with the low throughput workflow."
   ]
  },
  {
   "cell_type": "code",
   "execution_count": 1,
   "metadata": {},
   "outputs": [
    {
     "name": "stdout",
     "output_type": "stream",
     "text": [
      "Directory to save files set at - E:\\git_repos\\phenopype\\_temp\\output\\ex6\n",
      "Nothing loaded.\n"
     ]
    }
   ],
   "source": [
    "import phenopype as pp\n",
    "import os \n",
    "\n",
    "image_dir = \"images/snails1.jpg\"\n",
    "\n",
    "ct = pp.load_image(image_dir, \n",
    "                   cont=True,  # load as container\n",
    "                   dirpath= \"../_temp/output/ex6\",  # specify save-directory\n",
    "                   save_suffix = \"ex6\") # give files a save-suffix (e.g. \"contours_ex6.csv\")"
   ]
  },
  {
   "cell_type": "markdown",
   "metadata": {},
   "source": [
    "The `load` method of a `container` attempts to load any previously saved results, masks, etc. from the specified `dirpath`. `reset` will only reset the modified images, as well as image and contour DataFrames. This will preserve any drawn masks or other data stemming from user interaction.  "
   ]
  },
  {
   "cell_type": "code",
   "execution_count": 22,
   "metadata": {},
   "outputs": [
    {
     "name": "stdout",
     "output_type": "stream",
     "text": [
      "Nothing loaded.\n"
     ]
    }
   ],
   "source": [
    "ct.load()\n",
    "ct.reset()"
   ]
  },
  {
   "cell_type": "markdown",
   "metadata": {},
   "source": [
    "Draw a mask around the snails inside the tray by dragging a rectangle around them - finish with `Enter`, abort with `Esc`."
   ]
  },
  {
   "cell_type": "code",
   "execution_count": 20,
   "metadata": {},
   "outputs": [
    {
     "name": "stdout",
     "output_type": "stream",
     "text": [
      "- mask with label mask1 already created (overwrite=False)\n"
     ]
    }
   ],
   "source": [
    "pp.preprocessing.create_mask(ct)"
   ]
  },
  {
   "cell_type": "markdown",
   "metadata": {},
   "source": [
    "Now we'll blur the image a little, convert it to a binary image, and look at the results:"
   ]
  },
  {
   "cell_type": "code",
   "execution_count": 26,
   "metadata": {},
   "outputs": [
    {
     "name": "stdout",
     "output_type": "stream",
     "text": [
      "- include mask \"mask1\" pixels\n"
     ]
    }
   ],
   "source": [
    "pp.segmentation.blur(ct)\n",
    "pp.segmentation.threshold(ct, \n",
    "                          method=\"adaptive\", \n",
    "                          blocksize=59, ## relatively low sensitivity\n",
    "                          constant=10) ## relatively high subtraction factor from the result\n",
    "pp.show_image(ct) # `ct` automatically shows the last edit within the container, `ct.image` would also work"
   ]
  },
  {
   "cell_type": "markdown",
   "metadata": {},
   "source": [
    "The break up the clumping, we apply the watershed algorithm to the binarized image:"
   ]
  },
  {
   "cell_type": "code",
   "execution_count": 24,
   "metadata": {},
   "outputs": [],
   "source": [
    "pp.segmentation.watershed(ct, distance_cutoff=0.5) # , iterations=1, kernel_size=1\n",
    "pp.show_image(ct)"
   ]
  },
  {
   "cell_type": "markdown",
   "metadata": {},
   "source": [
    "With this image we can find the contours - for watershed we *have* to select the `\"ccomp\"` option."
   ]
  },
  {
   "cell_type": "code",
   "execution_count": 25,
   "metadata": {},
   "outputs": [],
   "source": [
    "pp.segmentation.find_contours(ct, \n",
    "                              retrieval=\"ccomp\", # this finds the splitted rather than the outer contours\n",
    "                              min_area=200) # noise removal"
   ]
  },
  {
   "cell_type": "markdown",
   "metadata": {},
   "source": [
    "Now we draw the contours..."
   ]
  },
  {
   "cell_type": "code",
   "execution_count": 13,
   "metadata": {},
   "outputs": [
    {
     "name": "stdout",
     "output_type": "stream",
     "text": [
      "- raw image\n"
     ]
    }
   ],
   "source": [
    "pp.visualization.select_canvas(ct, # onto which image should the contours be draw\n",
    "                               canvas=\"raw\") # raw = original image\n",
    "pp.visualization.draw_contours(ct, \n",
    "                               fill=0, \n",
    "                               line_width=2, \n",
    "                               watershed=True) # this flag needs to be added\n",
    "pp.show_image(ct.canvas)"
   ]
  },
  {
   "cell_type": "markdown",
   "metadata": {},
   "source": [
    "... and save them, as well as the masks (if we need to redo this) and the canvas for quality control."
   ]
  },
  {
   "cell_type": "code",
   "execution_count": 15,
   "metadata": {},
   "outputs": [
    {
     "name": "stdout",
     "output_type": "stream",
     "text": [
      "- canvas saved under ../_temp/output/ex6\\canvas_ex6.jpg (overwritten).\n",
      "- masks saved under ../_temp/output/ex6\\masks_ex6.csv (overwritten).\n",
      "- contours saved under ../_temp/output/ex6\\contours_ex6.csv (overwritten).\n"
     ]
    }
   ],
   "source": [
    "pp.export.save_canvas(ct, canvas=raw, name=\"raw\", resize=1)\n",
    "pp.export.save_masks(ct)\n",
    "pp.export.save_contours(ct)"
   ]
  },
  {
   "cell_type": "markdown",
   "metadata": {},
   "source": [
    "**Note:** the countour csv contains BOTH the outer (unseparated=\"parent\") and inner (separated=\"child\") contours. Be sure to select the desired rows using the `\"order\"` column when analyzing."
   ]
  },
  {
   "cell_type": "code",
   "execution_count": null,
   "metadata": {},
   "outputs": [],
   "source": []
  }
 ],
 "metadata": {
  "kernelspec": {
   "display_name": "Python 3",
   "language": "python",
   "name": "python3"
  },
  "language_info": {
   "codemirror_mode": {
    "name": "ipython",
    "version": 3
   },
   "file_extension": ".py",
   "mimetype": "text/x-python",
   "name": "python",
   "nbconvert_exporter": "python",
   "pygments_lexer": "ipython3",
   "version": "3.7.5"
  }
 },
 "nbformat": 4,
 "nbformat_minor": 4
}
