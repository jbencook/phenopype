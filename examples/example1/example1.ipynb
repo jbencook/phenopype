{
 "cells": [
  {
   "cell_type": "markdown",
   "metadata": {},
   "source": [
    "# Example 1 - count and measure objects in multiple images\n",
    "\n",
    "This example demonstrates how multiple small objects can be found and phenotypes in multiple images. The images contain black and white isopods sitting inside a white tray underneath a camera stand, photopgraphed with a 50 mm lens on a Canon 750D. "
   ]
  },
  {
   "cell_type": "code",
   "execution_count": 6,
   "metadata": {},
   "outputs": [],
   "source": [
    "import phenopype as pp\n",
    "\n",
    "ex1 = \"E:\\\\Python1\\\\phenopype\\\\examples\\\\example1\\\\images\"\n"
   ]
  },
  {
   "cell_type": "code",
   "execution_count": 4,
   "metadata": {},
   "outputs": [],
   "source": [
    "proj = pp.project()    \n",
    "proj.project_maker(project_name=\"example1\", image_dir=ex1, save_dir= ex1 + \"\\\\out\")"
   ]
  },
  {
   "cell_type": "code",
   "execution_count": 7,
   "metadata": {
    "scrolled": true
   },
   "outputs": [
    {
     "name": "stdout",
     "output_type": "stream",
     "text": [
      "\n",
      "Mark the outline of the scale by left clicking, finish by right clicking:\n",
      "Adding point 1 of 2 to scale\n",
      "Adding point 2 of 2 to scale\n",
      "Finished, scale outline drawn. Add the scale by clicking on two points with a known distance between them:\n",
      "Finished, scale drawn. your scale has 138 pixel per 10 mm.\n"
     ]
    }
   ],
   "source": [
    "img = proj.filepaths[0]\n",
    "\n",
    "scale = pp.scale_maker()\n",
    "scale.draw(image_path=img, length=10, unit=\"mm\", mode=\"box\", show=True)"
   ]
  },
  {
   "cell_type": "markdown",
   "metadata": {},
   "source": []
  }
 ],
 "metadata": {
  "kernelspec": {
   "display_name": "Python 3",
   "language": "python",
   "name": "python3"
  },
  "language_info": {
   "codemirror_mode": {
    "name": "ipython",
    "version": 3
   },
   "file_extension": ".py",
   "mimetype": "text/x-python",
   "name": "python",
   "nbconvert_exporter": "python",
   "pygments_lexer": "ipython3",
   "version": "3.7.1"
  }
 },
 "nbformat": 4,
 "nbformat_minor": 2
}
